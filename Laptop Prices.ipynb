{
 "cells": [
  {
   "cell_type": "code",
   "execution_count": 1,
   "id": "75f5e8bc",
   "metadata": {},
   "outputs": [],
   "source": [
    "import numpy as np\n",
    "import pandas as pd \n",
    "import matplotlib.pyplot as plt \n",
    "import seaborn as sns \n",
    "import sklearn "
   ]
  },
  {
   "cell_type": "code",
   "execution_count": 2,
   "id": "b38a493e",
   "metadata": {},
   "outputs": [],
   "source": [
    "file = pd.read_csv(r\"C:\\Users\\User\\Desktop\\Data Science\\Projects Dataset\\laptop_price.csv\", encoding='latin')"
   ]
  },
  {
   "cell_type": "code",
   "execution_count": 3,
   "id": "248926f7",
   "metadata": {},
   "outputs": [],
   "source": [
    "pd.set_option(\"display.max_columns\", None)"
   ]
  },
  {
   "cell_type": "code",
   "execution_count": 4,
   "id": "2280891f",
   "metadata": {},
   "outputs": [
    {
     "data": {
      "text/plain": [
       "(1303, 13)"
      ]
     },
     "execution_count": 4,
     "metadata": {},
     "output_type": "execute_result"
    }
   ],
   "source": [
    "file.shape"
   ]
  },
  {
   "cell_type": "code",
   "execution_count": 5,
   "id": "09fa9032",
   "metadata": {},
   "outputs": [
    {
     "data": {
      "text/plain": [
       "laptop_ID           0\n",
       "Company             0\n",
       "Product             0\n",
       "TypeName            0\n",
       "Inches              0\n",
       "ScreenResolution    0\n",
       "Cpu                 0\n",
       "Ram                 0\n",
       "Memory              0\n",
       "Gpu                 0\n",
       "OpSys               0\n",
       "Weight              0\n",
       "Price_euros         0\n",
       "dtype: int64"
      ]
     },
     "execution_count": 5,
     "metadata": {},
     "output_type": "execute_result"
    }
   ],
   "source": [
    "file.isna().sum()"
   ]
  },
  {
   "cell_type": "code",
   "execution_count": 7,
   "id": "76fa960a",
   "metadata": {},
   "outputs": [
    {
     "data": {
      "text/plain": [
       "0"
      ]
     },
     "execution_count": 7,
     "metadata": {},
     "output_type": "execute_result"
    }
   ],
   "source": [
    "file.duplicated().sum()"
   ]
  },
  {
   "cell_type": "code",
   "execution_count": 7,
   "id": "7a3a6994",
   "metadata": {},
   "outputs": [
    {
     "data": {
      "text/html": [
       "<div>\n",
       "<style scoped>\n",
       "    .dataframe tbody tr th:only-of-type {\n",
       "        vertical-align: middle;\n",
       "    }\n",
       "\n",
       "    .dataframe tbody tr th {\n",
       "        vertical-align: top;\n",
       "    }\n",
       "\n",
       "    .dataframe thead th {\n",
       "        text-align: right;\n",
       "    }\n",
       "</style>\n",
       "<table border=\"1\" class=\"dataframe\">\n",
       "  <thead>\n",
       "    <tr style=\"text-align: right;\">\n",
       "      <th></th>\n",
       "      <th>laptop_ID</th>\n",
       "      <th>Company</th>\n",
       "      <th>Product</th>\n",
       "      <th>TypeName</th>\n",
       "      <th>Inches</th>\n",
       "      <th>ScreenResolution</th>\n",
       "      <th>Cpu</th>\n",
       "      <th>Ram</th>\n",
       "      <th>Memory</th>\n",
       "      <th>Gpu</th>\n",
       "      <th>OpSys</th>\n",
       "      <th>Weight</th>\n",
       "      <th>Price_euros</th>\n",
       "    </tr>\n",
       "  </thead>\n",
       "  <tbody>\n",
       "    <tr>\n",
       "      <th>0</th>\n",
       "      <td>1</td>\n",
       "      <td>Apple</td>\n",
       "      <td>MacBook Pro</td>\n",
       "      <td>Ultrabook</td>\n",
       "      <td>13.3</td>\n",
       "      <td>IPS Panel Retina Display 2560x1600</td>\n",
       "      <td>Intel Core i5 2.3GHz</td>\n",
       "      <td>8GB</td>\n",
       "      <td>128GB SSD</td>\n",
       "      <td>Intel Iris Plus Graphics 640</td>\n",
       "      <td>macOS</td>\n",
       "      <td>1.37kg</td>\n",
       "      <td>1339.69</td>\n",
       "    </tr>\n",
       "    <tr>\n",
       "      <th>1</th>\n",
       "      <td>2</td>\n",
       "      <td>Apple</td>\n",
       "      <td>Macbook Air</td>\n",
       "      <td>Ultrabook</td>\n",
       "      <td>13.3</td>\n",
       "      <td>1440x900</td>\n",
       "      <td>Intel Core i5 1.8GHz</td>\n",
       "      <td>8GB</td>\n",
       "      <td>128GB Flash Storage</td>\n",
       "      <td>Intel HD Graphics 6000</td>\n",
       "      <td>macOS</td>\n",
       "      <td>1.34kg</td>\n",
       "      <td>898.94</td>\n",
       "    </tr>\n",
       "    <tr>\n",
       "      <th>2</th>\n",
       "      <td>3</td>\n",
       "      <td>HP</td>\n",
       "      <td>250 G6</td>\n",
       "      <td>Notebook</td>\n",
       "      <td>15.6</td>\n",
       "      <td>Full HD 1920x1080</td>\n",
       "      <td>Intel Core i5 7200U 2.5GHz</td>\n",
       "      <td>8GB</td>\n",
       "      <td>256GB SSD</td>\n",
       "      <td>Intel HD Graphics 620</td>\n",
       "      <td>No OS</td>\n",
       "      <td>1.86kg</td>\n",
       "      <td>575.00</td>\n",
       "    </tr>\n",
       "    <tr>\n",
       "      <th>3</th>\n",
       "      <td>4</td>\n",
       "      <td>Apple</td>\n",
       "      <td>MacBook Pro</td>\n",
       "      <td>Ultrabook</td>\n",
       "      <td>15.4</td>\n",
       "      <td>IPS Panel Retina Display 2880x1800</td>\n",
       "      <td>Intel Core i7 2.7GHz</td>\n",
       "      <td>16GB</td>\n",
       "      <td>512GB SSD</td>\n",
       "      <td>AMD Radeon Pro 455</td>\n",
       "      <td>macOS</td>\n",
       "      <td>1.83kg</td>\n",
       "      <td>2537.45</td>\n",
       "    </tr>\n",
       "    <tr>\n",
       "      <th>4</th>\n",
       "      <td>5</td>\n",
       "      <td>Apple</td>\n",
       "      <td>MacBook Pro</td>\n",
       "      <td>Ultrabook</td>\n",
       "      <td>13.3</td>\n",
       "      <td>IPS Panel Retina Display 2560x1600</td>\n",
       "      <td>Intel Core i5 3.1GHz</td>\n",
       "      <td>8GB</td>\n",
       "      <td>256GB SSD</td>\n",
       "      <td>Intel Iris Plus Graphics 650</td>\n",
       "      <td>macOS</td>\n",
       "      <td>1.37kg</td>\n",
       "      <td>1803.60</td>\n",
       "    </tr>\n",
       "  </tbody>\n",
       "</table>\n",
       "</div>"
      ],
      "text/plain": [
       "   laptop_ID Company      Product   TypeName  Inches  \\\n",
       "0          1   Apple  MacBook Pro  Ultrabook    13.3   \n",
       "1          2   Apple  Macbook Air  Ultrabook    13.3   \n",
       "2          3      HP       250 G6   Notebook    15.6   \n",
       "3          4   Apple  MacBook Pro  Ultrabook    15.4   \n",
       "4          5   Apple  MacBook Pro  Ultrabook    13.3   \n",
       "\n",
       "                     ScreenResolution                         Cpu   Ram  \\\n",
       "0  IPS Panel Retina Display 2560x1600        Intel Core i5 2.3GHz   8GB   \n",
       "1                            1440x900        Intel Core i5 1.8GHz   8GB   \n",
       "2                   Full HD 1920x1080  Intel Core i5 7200U 2.5GHz   8GB   \n",
       "3  IPS Panel Retina Display 2880x1800        Intel Core i7 2.7GHz  16GB   \n",
       "4  IPS Panel Retina Display 2560x1600        Intel Core i5 3.1GHz   8GB   \n",
       "\n",
       "                Memory                           Gpu  OpSys  Weight  \\\n",
       "0            128GB SSD  Intel Iris Plus Graphics 640  macOS  1.37kg   \n",
       "1  128GB Flash Storage        Intel HD Graphics 6000  macOS  1.34kg   \n",
       "2            256GB SSD         Intel HD Graphics 620  No OS  1.86kg   \n",
       "3            512GB SSD            AMD Radeon Pro 455  macOS  1.83kg   \n",
       "4            256GB SSD  Intel Iris Plus Graphics 650  macOS  1.37kg   \n",
       "\n",
       "   Price_euros  \n",
       "0      1339.69  \n",
       "1       898.94  \n",
       "2       575.00  \n",
       "3      2537.45  \n",
       "4      1803.60  "
      ]
     },
     "execution_count": 7,
     "metadata": {},
     "output_type": "execute_result"
    }
   ],
   "source": [
    "file.head()"
   ]
  },
  {
   "cell_type": "markdown",
   "id": "fcbdc148",
   "metadata": {},
   "source": [
    "# Data Cleaning"
   ]
  },
  {
   "cell_type": "markdown",
   "id": "fc608f28",
   "metadata": {},
   "source": [
    "Since the dataset contains a unique index for each row, i will drop the \"laptop_ID\" column as this does not serve any purpose"
   ]
  },
  {
   "cell_type": "code",
   "execution_count": 8,
   "id": "9c25b152",
   "metadata": {},
   "outputs": [],
   "source": [
    "file.drop(columns = \"laptop_ID\", inplace=True)"
   ]
  },
  {
   "cell_type": "code",
   "execution_count": 17,
   "id": "e5da7a15",
   "metadata": {},
   "outputs": [
    {
     "data": {
      "text/plain": [
       "array(['MacBook Pro', 'Macbook Air', '250 G6', 'Aspire 3',\n",
       "       'ZenBook UX430UN', 'Swift 3', 'Inspiron 3567', 'MacBook 12\"',\n",
       "       'IdeaPad 320-15IKB', 'XPS 13', 'Vivobook E200HA',\n",
       "       'Legion Y520-15IKBN', '255 G6', 'Inspiron 5379',\n",
       "       '15-BS101nv (i7-8550U/8GB/256GB/FHD/W10)', 'MacBook Air',\n",
       "       'Inspiron 5570', 'Latitude 5590', 'ProBook 470', 'LapBook 15.6\"',\n",
       "       'E402WA-GA010T (E2-6110/2GB/32GB/W10)',\n",
       "       '17-ak001nv (A6-9220/4GB/500GB/Radeon', 'IdeaPad 120S-14IAP',\n",
       "       'Inspiron 5770', 'ProBook 450',\n",
       "       'X540UA-DM186 (i3-6006U/4GB/1TB/FHD/Linux)', 'Inspiron 7577',\n",
       "       'X542UQ-GO005 (i5-7200U/8GB/1TB/GeForce', 'Aspire A515-51G',\n",
       "       'Inspiron 7773', 'IdeaPad 320-15ISK', 'Rog Strix',\n",
       "       'X751NV-TY001T (N4200/4GB/1TB/GeForce', 'Yoga Book', 'ProBook 430',\n",
       "       'Inspiron 3576', '15-bs002nv (i3-6006U/4GB/128GB/FHD/W10)',\n",
       "       'VivoBook Max', 'GS73VR 7RG',\n",
       "       'X541UA-DM1897 (i3-6006U/4GB/256GB/FHD/Linux)', 'Vostro 5471',\n",
       "       'IdeaPad 520S-14IKB',\n",
       "       'UX410UA-GV350T (i5-8250U/8GB/256GB/FHD/W10)', 'ZenBook Pro',\n",
       "       'Stream 14-AX040wm', 'V310-15ISK (i5-7200U/4GB/1TB/FHD/W10)',\n",
       "       'FX753VE-GC093 (i7-7700HQ/12GB/1TB/GeForce', 'Surface Laptop',\n",
       "       'Inspiron 5370', 'GL72M 7RDX', 'Aspire E5-475',\n",
       "       'FX503VD-E4022T (i7-7700HQ/8GB/1TB/GeForce', 'IdeaPad 320-15IKBN',\n",
       "       'Aspire A515-51G-32MX', 'ProBook 440', 'IdeaPad 320-15AST',\n",
       "       'Pavilion 15-CK000nv', 'FX503VM-E4007T (i7-7700HQ/16GB/1TB',\n",
       "       'FX550IK-DM018T (FX-9830P/8GB/1TB/Radeon', 'Aspire 5',\n",
       "       'Probook 430', 'Zenbook UX430UA', 'Spin 5',\n",
       "       'X541UV-DM1439T (i3-7100U/6GB/256GB/GeForce', 'Omen 15-ce007nv',\n",
       "       '15-bs017nv (i7-7500U/8GB/256GB/Radeon',\n",
       "       '15-bw000nv (E2-9000e/4GB/500GB/Radeon', 'Envy 13-ad009n',\n",
       "       'Pavilion 14-BK001nv', 'Ideapad 310-15ISK',\n",
       "       'UX430UQ-GV209R (i7-7500U/8GB/256GB/GeForce', 'GP62M 7REX',\n",
       "       'Thinkpad T470', 'VivoBook S15', 'ThinkPad Yoga', 'Probook 440',\n",
       "       'Spectre x360', 'Inspiron 7570',\n",
       "       'X705UV-BX074T (i3-6006U/4GB/1TB/GeForce', 'Spin 3', 'GS63VR 7RG',\n",
       "       'Probook 470', 'E402WA-GA007T (E2-6110/4GB/64GB/W10',\n",
       "       'Inspiron 5567', 'Aspire A515-51G-37JS',\n",
       "       '15-BS078nr (i7-7500U/8GB/1TB/W10)',\n",
       "       'V110-15IAP (N3350/4GB/1TB/No',\n",
       "       'FX753VD-GC086T (i5-7300HQ/8GB/1TB', 'Envy 13-AD007nv',\n",
       "       'ThinkPad E480', 'Satellite Pro', 'ZenBook UX430UA',\n",
       "       'EliteBook Folio', 'X541NA (N3350/4GB/1TB/FHD/W10)', 'GE72MVR 7RG',\n",
       "       'Aspire A315-51', 'Inspiron 5577', 'Inspiron 7567',\n",
       "       'V110-15IKB (i5-7200U/4GB/128GB/W10)', 'GE73VR 7RE',\n",
       "       'EliteBook 840', '15-BS103nv (i5-8250U/6GB/256GB/Radeon',\n",
       "       'Yoga 520-14IKB', 'ZenBook Flip', 'Inspiron 5579',\n",
       "       'X555BP-XX180T (A9-9420/4GB/1TB/Radeon', 'Aspire A517-51G',\n",
       "       'Aspire A315-31', 'GE63VR 7RE', 'MateBook X',\n",
       "       '17-bs001nv (i5-7200U/6GB/2TB/Radeon', 'GT80S 6QF-074US',\n",
       "       'V310-15IKB (i5-7200U/8GB/1TB', 'Yoga 920-13IKB', 'Mi Notebook',\n",
       "       'XPS 15', 'Swift 7', 'Thinkpad Yoga',\n",
       "       'K147 (N3350/4GB/32GB/FHD/W10)', 'IdeaPad 320-17IKBR', 'Blade Pro',\n",
       "       'Omen 17-W295', 'V110-15ISK (i5-6200U/4GB/128GB/W10)',\n",
       "       'Aspire E5-576G', 'Legion Y720-15IKB', 'Precision 7520',\n",
       "       'Aspire 7', 'ROG GL703VD-GC028T',\n",
       "       '15-bs018nq (i3-6006U/4GB/500GB/FHD/No', 'IdeaPad 320-17IKB',\n",
       "       'Latitude 5490', 'Portege Z30-C-16L', 'Alienware 17',\n",
       "       'Vivobook X541UV-DM1217T', 'K756UX-T4340T (i5-7200U/8GB/500GB',\n",
       "       'ZBook 15u', 'Pro P2540UA-XO0198T',\n",
       "       '15-rb013nv (E2-9000e/4GB/500GB/W10)', 'Vostro 5468', 'Aspire R7',\n",
       "       'X555QG-DM242T (A10-9620P/4GB/1TB', 'ROG G703VI-E5062T',\n",
       "       'Nitro AN515-51', 'VivoBook Pro',\n",
       "       'F756UX-T4201D (i7-7500U/8GB/128GB', 'Yoga 910-13IKB',\n",
       "       '15-bs015dx (i5-7200U/8GB/1TB/W10)', 'Rog G701VIK-BA060T',\n",
       "       'ROG G752VSK-GC493T', 'X505BP-BR019T (A9-9420/4GB/1TB/Radeon',\n",
       "       'Vostro 5370', '15-BW094nd (A6-9220/8GB/128GB/W10)',\n",
       "       'Envy 17-U275cl', 'GT73EVR 7RE', 'Yoga 720-15IKB', 'Vostro 3568',\n",
       "       'V330-15IKB (i7-8550U/8GB/256GB/FHD/W10)', 'ThinkPad X1',\n",
       "       'IdeaPad 320-17ISK', 'Ideapad 320-15IKBN',\n",
       "       'SP315-51 (i7-7500U/12GB/1TB/FHD/W10)', 'Thinkpad T570',\n",
       "       'Chromebook C910-C2ST',\n",
       "       'FX753VD-GC071T (i7-7700HQ/8GB/1TB/GeForce',\n",
       "       '17-BS037cl (i3-6006U/8GB/1TB/W10)',\n",
       "       'V330-15IKB (i5-8250U/8GB/256GB/FHD/W10)', 'Aspire A715-71G',\n",
       "       'Precision 7720', 'IdeaPad 310-15ABR', 'ZenBook UX530UQ-PRO',\n",
       "       'VivoBook S14', 'Rog GL702VS-GC095T',\n",
       "       'GL553VE-FY082T (i7-7700HQ/8GB/1TB', 'IdeaPad 320-15IAP',\n",
       "       'EliteBook x360', 'IdeaPad 720S-13IKB', 'GE63VR 7RF',\n",
       "       'ES1-523-84K7 (A8-7410/8GB/256GB/FHD/W10)', 'VivoBook Flip',\n",
       "       'ThinkPad 13', 'ProBook 640', 'TravelMate B', 'Elitebook 840',\n",
       "       'ZenBook UX410UA-GV183T', 'Aspire E5-575', 'Elitebook 820',\n",
       "       'GL72M 7REX', 'UX510UX-CN269T (i7-7500U/8GB/256GB',\n",
       "       'V310-15ISK (i3-6006U/4GB/1TB/FHD/W10)',\n",
       "       'FX553VD-FY647T (i7-7700HQ/8GB/256GB/GeForce', 'Elitebook 850',\n",
       "       'X541NA (N3350/4GB/1TB/Linux)', 'Inspiron 3552',\n",
       "       'IdeaPad 320-15ABR', 'Stream 14-AX001nv', 'GP72MVR 7RFX',\n",
       "       'Zbook 15', 'Tecra A50-C-21G', 'Latitude 7480',\n",
       "       'Zenbook UX410UA-GV027T', '15-AY023na (N3710/8GB/2TB/W10)',\n",
       "       'Elitebook 1040', 'IdeaPad 110-17ACL',\n",
       "       '15-bw003nv (A9-Series-9420/4GB/256GB/FHD/W10)', 'Yoga 11e',\n",
       "       'VivoBook E403NA', 'Omen 17-w212nv',\n",
       "       'V310-15ISK (i3-6006U/4GB/128GB/FHD/No', 'ROG Strix',\n",
       "       'IdeaPad 720S-14IKB', 'Zenbook Flip', 'Thinkpad X1',\n",
       "       'Ideapad 510S-13IKB', 'Precision 3510', 'Precision 5520',\n",
       "       'Rog GL753VD-GC042T', 'Rog GL753VE-GC070T', 'Leopard GP72M',\n",
       "       '15-BW004nv (A9-9420/4GB/256GB/Radeon', 'ThinkPad E580',\n",
       "       'ThinkPad L470', 'Precision M5520',\n",
       "       'FX753VD-GC461T (i7-7700HQ/16GB/1TB', 'GE73VR 7RF', 'Zenbook 3',\n",
       "       'Portege Z30-C-16P', 'Lenovo IdeaPad', 'ThinkPad P51',\n",
       "       'Thinkpad T470p', '15-BS028nv (i3-6006U/4GB/1TB/Radeon',\n",
       "       'Latitude 3380', 'EliteBook 1040', 'LapBook 12.3', 'ProBook 650',\n",
       "       'X542UQ-DM117 (i3-7100U/8GB/1TB/GeForce', 'Latitude 5480',\n",
       "       'Omen 17-w207nv', 'FlexBook Edge', 'Chromebook 3', 'Thinkpad 13',\n",
       "       'IdeaPad 320s-14IKB', 'Thinkpad P51',\n",
       "       '15-ra044nv (N3060/4GB/500GB/W10)', 'Pixelbook (Core',\n",
       "       'ThinkPad T470s', 'ThinkPad X270', 'Omen 15-AX205na',\n",
       "       'Aspire ES1-572', 'Precision 3520', 'GV62 7RD-1686NL',\n",
       "       '15-bs024nv (i5-7200U/8GB/128GB/W10)', 'ThinkPad T470',\n",
       "       'Inspiron 3168', '17-BS092ND (i3-6006U/8GB/256GB/W10)',\n",
       "       'Pro P2540UA-AB51', 'IdeaPad 510s-14IKB',\n",
       "       'X541NA-PD1003Y (N4200/4GB/500GB/W10)', 'Omen 17-an006nv',\n",
       "       'Thinkpad T460s', 'Latitude 7390', 'Latitude E5470',\n",
       "       'Portege X30-D-10J', 'Lapbook 15,6', 'ThinkPad E570',\n",
       "       'Thinkpad X270', 'Zenbook UX390UA', 'Thinkpad E570',\n",
       "       'Portege X30-D-10L', 'Rog G752VL-UH71T', 'Thinkpad X260',\n",
       "       'Ideapad 520-15IKBR', 'ThinkPad L570', 'VivoBook E201NA',\n",
       "       '15-BS026nv (i5-7200U/8GB/256GB/Radeon', 'IdeaPad 320-14IAP',\n",
       "       'Chromebook N23', 'ZenBook UX510UX-CN211T', 'Aspire A515-51G-59QF',\n",
       "       'Envy 13-AB002nv', 'Vostro 5568', 'VivoBook E12',\n",
       "       '15-bs190od (i5-8250U/4GB/1TB/W10)', 'ROG Zephyrus', 'Probook 450',\n",
       "       'FX753VE-GC155T (i7-7700HQ/16GB/1TB', 'Spectre X360',\n",
       "       'Latitude 5580', 'Zenbook UX510UW-FI095T', 'SmartBook Edge',\n",
       "       'Omen 15-ce006nv', 'Thinkpad E470', 'Envy 13-AB020nr',\n",
       "       'VivoBook X540YA-XX519T', 'ThinkPad E470',\n",
       "       'V310-15ISK (i5-6200U/4GB/1TB/FHD/No', 'ThinkPad T570',\n",
       "       '17-X047na (i3-6006U/8GB/1TB/W10)',\n",
       "       'A541NA-GO342 (N3350/4GB/500GB/Linux)', 'SmartBook 130',\n",
       "       '15-bw007nv (A10-9620P/6GB/128GB/Radeon', 'Spin SP111-31',\n",
       "       'V330-15IKB (i3-7130U/4GB/128GB/FHD/W10)', 'EliteBook 1030',\n",
       "       'Thinkpad P71', 'FX553VD-DM627T (i5-7300HQ/8GB/1TB',\n",
       "       'Lifebook A557', 'ZBook 17', '14-am079na (N3710/8GB/2TB/W10)',\n",
       "       '15-cd005nv (A9-9420/6GB/256GB/Radeon',\n",
       "       'V330-15IKB (i5-8250U/4GB/500GB/FHD/W10)', 'SmartBook 141',\n",
       "       'Tecra X40-D-10H', 'IdeaPad Y910-17ISK', 'GT73VR Titan',\n",
       "       'Chromebook 11', 'GT80S 6QE', 'Omen 17-AN010nv',\n",
       "       'Ideapad 320-15IKBR', 'TP501UA-CJ131T (i5-7200U/8GB/1TB/W10)',\n",
       "       'Inspiron 3179', 'Notebook Odyssey',\n",
       "       'V320-17ISK (i3-6006U/4GB/500GB/FHD/No', 'IdeaPad 110-15ISK',\n",
       "       'Latitude 5289', 'EliteBook 850', 'Aspire 1', 'Laptop MSI',\n",
       "       'GS63VR 7RF', 'Tecra Z50-C-144', 'IdeaPad 310-15IKB',\n",
       "       'Swift SF114-31-P5HY', 'Inspiron 7559',\n",
       "       'FX753VD-GC007T (i7-7700HQ/8GB/1TB', 'GT62VR 7RE',\n",
       "       'CB5-132T-C9KK (N3160/4GB/32GB/Chrome', 'LifeBook A557',\n",
       "       'SmartBook 140', 'Q304UA-BHI5T11 (i5-7200U/6GB/1TB/FHD/W10)',\n",
       "       'ZenBook 3', 'V330-15IKB (i5-8250U/4GB/256GB/FHD/W10)',\n",
       "       'Ideapad 320-15ISK', 'X541NA-GO414T (N3350/8GB/1TB/W10)',\n",
       "       'IdeaPad 100S-14IBR', '17-AK091ND (A9-9420/8GB/1TB/W10)',\n",
       "       'ROG GL553VE-FY022', 'Extensa EX2540', 'Portege Z30-C-16J',\n",
       "       'ROG G701VI', 'A715-71G-59DH (i5-7300HQ/8GB/1TB/GeForce',\n",
       "       'GL62M 7REX', 'Tecra A50-D-11M', 'IdeaPad Y700-15ISK',\n",
       "       'Latitude E7470', 'Ideapad 320-15IAP',\n",
       "       '15-ay047nv (i3-6006U/6GB/1TB/Radeon', 'GP72VR Leopard',\n",
       "       'Latitude 3580', '15-bs012nv (i7-7500U/8GB/1TB/Radeon',\n",
       "       'Tecra Z50-D-10E', 'V310-15ISK (i5-7200U/8GB/1TB',\n",
       "       'Yoga 720-13IKB', 'Pavilion X360', 'GP62 7RDX', 'Chromebook X360',\n",
       "       'Gram 15Z975', 'Aspire VX5-591G', 'GV62M 7RD',\n",
       "       'L502NA-GO052T (N3350/4GB/128GB/W10)', 'Alienware 15',\n",
       "       '17-bs000nv I3', 'Yoga 730', '17-Y002nv (A10-9600P/6GB/2TB/Radeon',\n",
       "       'V110-15ISK (3855U/4GB/500GB/W10)', 'Chromebook 14',\n",
       "       'IdeaPad 520s-14IKB', 'TravelMate B117-M', 'Chromebook Flip',\n",
       "       'Portege Z30T-C-133', '15-bs011nv (i7-7500U/4GB/500GB/Radeon',\n",
       "       'V310-15IKB (i5-7200U/4GB/1TB/FHD/W10)',\n",
       "       'V310-15ISK (i3-6006U/4GB/500GB/No', 'ThinkPad P51s',\n",
       "       'Thinkpad T460p', '17-ak002nv (A10-9620P/6GB/2TB/Radeon',\n",
       "       '110-15ACL (A6-7310/4GB/500GB/W10)', 'Smartbook 142',\n",
       "       'V310-15IKB (i5-7200U/4GB/1TB/No', 'Inspiron 5378',\n",
       "       '15-BW037na (A9-9420/4GB/1TB/Radeon', 'Predator 17',\n",
       "       '15-BW091ND (A9-9420/6GB/1TB', 'Extensa EX2540-58KR',\n",
       "       'V310-15IKB (i7-7500U/4GB/1TB/FHD/W10)', 'ZBook 15',\n",
       "       'Inspiron 7560', 'Tecra X40-D-10G', 'Flex 5', 'Thinkpad P51s',\n",
       "       'Notebook 9', 'Zbook 17', 'N23 (N3060/4GB/128GB/W10)',\n",
       "       'X550VX-XX015D (i5-6300HQ/4GB/1TB/GeForce', 'Thinkpad T460',\n",
       "       'Pro P2540UA-XO0192R', 'Yoga 900-13ISK',\n",
       "       '15-cb003na (i5-7300HQ/8GB/1TB', 'Latitude 7280',\n",
       "       'Zenbook UX330UA-AH5Q', 'TravelMate P238-M',\n",
       "       'X751NV-TY001 (N4200/4GB/1TB/GeForce', 'Tecra A40-C-1E5',\n",
       "       'EliteBook 820', 'Q524UQ-BHI7T15 (i7-7500U/12GB/2TB/GeForce',\n",
       "       'Thinkpad P50', 'Vivobook Max', 'Rog G752VS-BA171T',\n",
       "       'Tecra Z40-C-161', 'IdeaPad 110-15IBR', 'GS43VR 7RE',\n",
       "       'GL62M (i5-7300HQ/8GB/1TB', 'Predator G9-793',\n",
       "       'FX502VM-DM560T (i7-7700HQ/8GB/1TB', 'K146 (N3350/4GB/32GB/W10)',\n",
       "       'Yoga 510-15IKB', 'R417NA-RS01 (N3350/4GB/32GB/W10)',\n",
       "       'Pro P2540UA-XS51', 'Latitude 3180',\n",
       "       '15-ba043na (A12-9700P/8GB/2TB/W10)', 'Omen 17-an012dx',\n",
       "       'Thinkpad T470s', 'Blade Stealth', 'Latitude 3480',\n",
       "       'V110-15ISK (i3-6006U/4GB/500GB/W10)', 'Tecra X40-D-10Z',\n",
       "       'GL62M 7RD', 'Rog GL702VS-BA023T', 'N42-20 Chromebook',\n",
       "       'R558UA-DM966T (i5-7200U/8GB/128GB/FHD/W10)', 'Rog GL702VM-GC017T',\n",
       "       'ZenBook UX310UQ-GL026T', 'Rog GL502VM-DS74', 'Inspiron 5767',\n",
       "       'ThinkPad T470p', 'K556UR-DM621T (i7-7500U/8GB/256GB/GeForce',\n",
       "       'X541NA (N4200/4GB/1TB/W10)', 'Inspiron 5368', 'Portege X30-D-10X',\n",
       "       'Portégé Z30-C-188',\n",
       "       'TMX349-G2-M-50FS (i5-7200U/8GB/256GB/FHD/W10)', 'Tecra A50-D-11D',\n",
       "       'X541NA-GO121 (N4200/4GB/1TB/Linux)', 'Pavilion x360',\n",
       "       'VivoBook L402NA', 'IdeaPad 510-15ISK', 'Rog GL753VD-GC082T',\n",
       "       'Chromebook C731-C78G', 'Probook 640', 'Envy x360',\n",
       "       'GS73VR Stealth', 'Portege X30-D-10V',\n",
       "       'G701VO-IH74K (i7-6820HK/32GB/2x', 'Gram 15Z970',\n",
       "       'Chromebook CB5-571-C1DZ', 'Gram 14Z970', 'Elitebook Folio',\n",
       "       'IdeaPad 510-15IKB', 'GE72VR 6RF', 'Envy 13-AB077cl',\n",
       "       'Tecra Z50-C-140', 'Probook 650', 'Tecra Z40-C-12X',\n",
       "       'GP62M Leopard', 'Omen 17-W006na',\n",
       "       'X751SV-TY001T (N3710/4GB/1TB/GeForce', 'TravelMate P259-G2',\n",
       "       'Tecra A50-C-1ZV', 'Yoga 700-11ISK', 'IdeaPad Y700-15ACZ',\n",
       "       'Insprion 5767', 'ZBook Studio', 'Portege Z30-C-1CW',\n",
       "       'ProBook x360', 'Chromebook C738T-C2EJ', 'Portege Z30-C-16Z',\n",
       "       'Aspire F5-573G-510L', 'Portege X20W-D-10V', 'Tecra A40-C-1DF',\n",
       "       'ThinkPad T460', 'Q534UX-BHI7T19 (i7-7500U/16GB/2TB',\n",
       "       '15-bs053od (i7-7500U/6GB/1TB/W10)', 'Rog GL753VE-DS74',\n",
       "       'Inspiron 7579', 'Portege Z30-C-1CV', 'LifeBook A556',\n",
       "       'Tecra A40-C-1KF', '15-bs005nv (i3-6006U/4GB/1TB',\n",
       "       'V110-15IAP (N3350/4GB/128GB/No', 'ThinkPad T560',\n",
       "       'ZenBook UX310UA-FB485T', 'Spectre 13-V111dx', 'Aspire ES1-533',\n",
       "       'Rog GL553VE-DS74', 'Nitro 5', 'ENVY -', 'Portege Z30-C-16H',\n",
       "       'Portege A30-C-1CZ', 'ThinkPad P70', 'Tecra Z40-C-12Z',\n",
       "       'Inspiron 5568', 'Portégé Z30-C-16K', 'Spectre 13-V100nv',\n",
       "       'Latitude E5570', 'Tecra Z40-C-136', 'Yoga 500-15ISK',\n",
       "       'V142 (X5-Z8350/2GB/32GB/W10)', 'Tecra A50-C-218', 'Thinkpad L560',\n",
       "       'GT72S Dominator', 'IdeaPad Y900-17ISK', 'Chromebook C202SA',\n",
       "       'Noteb Pav', 'Inspiron 5578', '250 G5', 'Aspire ES1-523',\n",
       "       'Inspiron 7378', 'GT62VR 6RD', 'Rog G752VL-GC088D', 'GS63VR 6RF',\n",
       "       'ROG G701VO', 'Latitude 3570', 'IdeaPad 300-17ISK',\n",
       "       'Ideapad 700-15ISK', 'GT72VR Dominator',\n",
       "       'V110-15ISK (i5-6200U/4GB/500GB/W10)', 'Yoga 900S-12ISK',\n",
       "       'Chromebook 13', 'Rog GL702VM-GC354T', 'Aspire F5-573G',\n",
       "       'GS70 Stealth', 'G752VY-GC162T (i7-6700HQ/16GB/1TB',\n",
       "       'Latitude E5270', 'Chromebook 15', 'GE72 Apache',\n",
       "       '15-bw011nv (A6-9220/4GB/1TB/FHD/W10)', 'Rog GL552VW-CN470T',\n",
       "       'Vostro 3559', 'V110-15ISK (i3-6006U/4GB/128GB/W10)',\n",
       "       'Spectre Pro', 'Portege X30-D-10K', 'Rog GL752VW-T4308T',\n",
       "       'V131 (X5-Z8350/4GB/32GB/FHD/W10)', 'Omen -',\n",
       "       '15-bs078cl (i7-7500U/8GB/2TB/W10)', 'ThinkPad P40',\n",
       "       'L403NA-GA013TS (N3350/4GB/32GB/W10)', 'IdeaPad 500-15ISK',\n",
       "       'GP62M 7RDX', 'V110-15ISK (i3-6006U/4GB/1TB/No',\n",
       "       '15-BA015wm (E2-7110/4GB/500GB/W10)',\n",
       "       'B51-80 (i5-6200U/8GB/1TB/Radeon',\n",
       "       '15-bw002nv (A6-9220/4GB/256GB/Radeon', 'GP72M 7REX',\n",
       "       'ThinkPad T460s', 'B51-80 (i5-6200U/8GB/1008GB/Radeon',\n",
       "       'GS40 Phantom', 'Pavilion 15-cb003nv', 'IdeaPad 310-15ISK',\n",
       "       '250 G4', '320-15ISK (i3-6006U/4GB/1TB/GeForce',\n",
       "       'Stream 14-AX000nv', 'PL60 7RD',\n",
       "       'X553SA-XX021T (N3050/4GB/500GB/W10)',\n",
       "       'V110-15ISK (i5-6200U/4GB/500GB/No',\n",
       "       'UX410UA-GV097T (i3-7100U/4GB/256GB/FHD/W10)',\n",
       "       'B51-80 (i7-6500U/4GB/1008GB/FHD/W7)', 'GS60 Ghost',\n",
       "       'Pavilion 15-BC000nv', 'Rog GL552VW-DM201T', 'Chromebook Plus',\n",
       "       'Pavilion Power', 'V110-15ISK (i3-6006U/4GB/1TB/Radeon',\n",
       "       'Rog G752VY-GC229T', 'GS73VR 7RF',\n",
       "       'FX502VM-DM105T (i7-6700HQ/8GB/1TB/GeForce',\n",
       "       '15-bs025nv (i5-7200U/8GB/256GB/W10)', 'Aspire E5-774G',\n",
       "       'FX502VM-AS73 (i7-7700HQ/16GB/1TB',\n",
       "       'C740-C9QX (3205U/2GB/32GB/Chrome', 'E5 774G',\n",
       "       'SP714-51 (i7-7Y75/8GB/256GB/FHD/W10)', 'Thinkpad T560',\n",
       "       'GP62MVR 6RF', '15-bw009nv (A12-9720P/6GB/1TB/Radeon',\n",
       "       'Latitude E7270', 'X540SA-RBPDN09 (N3710/4GB/1TB/W10)',\n",
       "       'GL62M 7RDX', 'GE72VR Apache',\n",
       "       '15-bs023nv (i3-6006U/4GB/1TB/FHD/W10)', 'GL62 6QF',\n",
       "       'ZenBook UX310UA-WB71', 'Inspiron 7779', 'Rog GL553VE-FY052T',\n",
       "       'Rog GL502VS', 'V510-15IKB (i5-7200U/8GB/256GB/FHD/No',\n",
       "       'ThinkPad L460', 'X541NA-GO020T (N3350/4GB/1TB/W10)',\n",
       "       'Rog G752VT-GC073T', 'B51-80 (i7-6500U/8GB/1008GB/Radeon',\n",
       "       'GE62 Apache', 'Yoga 500-14IBD', 'ZenBook UX305CA-UBM1',\n",
       "       'Aspire ES1-531', 'Pavilion 15-AW003nv', 'Stream 11-Y000na',\n",
       "       'X556UJ-XO044T (i7-6500U/4GB/500GB/GeForce', 'Yoga 500-14ISK',\n",
       "       '15-AC110nv (i7-6500U/6GB/1TB/Radeon',\n",
       "       'X553SA-XX031T (N3050/4GB/500GB/W10)'], dtype=object)"
      ]
     },
     "execution_count": 17,
     "metadata": {},
     "output_type": "execute_result"
    }
   ],
   "source": [
    "file.Product.unique()"
   ]
  },
  {
   "cell_type": "markdown",
   "id": "46334416",
   "metadata": {},
   "source": [
    "The Product column contains additional information asides the product name. To extract the product name i would split the column and only return the neccessary information. "
   ]
  },
  {
   "cell_type": "code",
   "execution_count": 25,
   "id": "ace748a6",
   "metadata": {},
   "outputs": [],
   "source": [
    "def product_remv_spec(x):\n",
    "    try:\n",
    "        return x.split('(')[0]\n",
    "    except:\n",
    "        pass"
   ]
  },
  {
   "cell_type": "code",
   "execution_count": 26,
   "id": "4d218167",
   "metadata": {},
   "outputs": [],
   "source": [
    "file['Product'] = file.Product.apply(lambda x : product_remv_spec(x))"
   ]
  },
  {
   "cell_type": "code",
   "execution_count": 27,
   "id": "8b5e0b0a",
   "metadata": {},
   "outputs": [
    {
     "data": {
      "text/plain": [
       "array(['Ultrabook', 'Notebook', 'Netbook', 'Gaming', '2 in 1 Convertible',\n",
       "       'Workstation'], dtype=object)"
      ]
     },
     "execution_count": 27,
     "metadata": {},
     "output_type": "execute_result"
    }
   ],
   "source": [
    "file.TypeName.unique()"
   ]
  },
  {
   "cell_type": "code",
   "execution_count": 28,
   "id": "58a25821",
   "metadata": {},
   "outputs": [
    {
     "data": {
      "text/plain": [
       "array([13.3, 15.6, 15.4, 14. , 12. , 11.6, 17.3, 10.1, 13.5, 12.5, 13. ,\n",
       "       18.4, 13.9, 12.3, 17. , 15. , 14.1, 11.3])"
      ]
     },
     "execution_count": 28,
     "metadata": {},
     "output_type": "execute_result"
    }
   ],
   "source": [
    "file.Inches.unique()"
   ]
  },
  {
   "cell_type": "code",
   "execution_count": 29,
   "id": "0ee06545",
   "metadata": {},
   "outputs": [
    {
     "data": {
      "text/plain": [
       "Intel Core i5 7200U 2.5GHz       190\n",
       "Intel Core i7 7700HQ 2.8GHz      146\n",
       "Intel Core i7 7500U 2.7GHz       134\n",
       "Intel Core i7 8550U 1.8GHz        73\n",
       "Intel Core i5 8250U 1.6GHz        72\n",
       "                                ... \n",
       "Intel Core M M3-6Y30 0.9GHz        1\n",
       "AMD A9-Series 9420 2.9GHz          1\n",
       "Intel Core i3 6006U 2.2GHz         1\n",
       "AMD A6-Series 7310 2GHz            1\n",
       "Intel Xeon E3-1535M v6 3.1GHz      1\n",
       "Name: Cpu, Length: 118, dtype: int64"
      ]
     },
     "execution_count": 29,
     "metadata": {},
     "output_type": "execute_result"
    }
   ],
   "source": [
    "file.Cpu.value_counts()"
   ]
  },
  {
   "cell_type": "markdown",
   "id": "6bf1e4c2",
   "metadata": {},
   "source": [
    "The Cpu column is made up of the processing speed and the type of Cpu. I would split this column into \"Speed\"(contains the processing speed) and \"Cpu\"(contains the type of Cpu). Then i would remove the original Cpu column"
   ]
  },
  {
   "cell_type": "code",
   "execution_count": 31,
   "id": "53155505",
   "metadata": {},
   "outputs": [],
   "source": [
    "def Cpu_rmv_speed(x):\n",
    "    return x.split(\" \")[-1][:-3]"
   ]
  },
  {
   "cell_type": "code",
   "execution_count": 32,
   "id": "970535a0",
   "metadata": {},
   "outputs": [],
   "source": [
    "file[\"Speed\"] = file.Cpu.apply(lambda x : Cpu_rmv_speed(x))"
   ]
  },
  {
   "cell_type": "code",
   "execution_count": 34,
   "id": "392e0eea",
   "metadata": {},
   "outputs": [],
   "source": [
    "def Cpu_rmv_speed2(x):\n",
    "    length = len(x.split(\" \")[-1])\n",
    "    return x[:-length]"
   ]
  },
  {
   "cell_type": "code",
   "execution_count": 35,
   "id": "de8f2bab",
   "metadata": {},
   "outputs": [],
   "source": [
    "file['Cpu'] =  file.Cpu.apply(lambda x : Cpu_rmv_speed2(x))"
   ]
  },
  {
   "cell_type": "code",
   "execution_count": 36,
   "id": "cb4cf354",
   "metadata": {},
   "outputs": [],
   "source": [
    "file[\"Speed\"] = file.Speed.astype(float,)"
   ]
  },
  {
   "cell_type": "code",
   "execution_count": 18,
   "id": "02395ba5",
   "metadata": {},
   "outputs": [
    {
     "data": {
      "text/plain": [
       "array(['8GB', '16GB', '4GB', '2GB', '12GB', '6GB', '32GB', '24GB', '64GB'],\n",
       "      dtype=object)"
      ]
     },
     "execution_count": 18,
     "metadata": {},
     "output_type": "execute_result"
    }
   ],
   "source": [
    "file.Ram.unique()"
   ]
  },
  {
   "cell_type": "markdown",
   "id": "8d598f99",
   "metadata": {},
   "source": [
    "To clean the Ram column, i would remove the \"GB\" attached to each value after which i would convert the column into integer"
   ]
  },
  {
   "cell_type": "code",
   "execution_count": 39,
   "id": "1ca9d5f8",
   "metadata": {},
   "outputs": [],
   "source": [
    "file.Ram = file.Ram.apply(lambda x : x.strip(\"GB\")).astype(int)"
   ]
  },
  {
   "cell_type": "code",
   "execution_count": 40,
   "id": "dc4b3de5",
   "metadata": {},
   "outputs": [
    {
     "data": {
      "text/plain": [
       "array(['macOS', 'No OS', 'Windows 10', 'Mac OS X', 'Linux', 'Android',\n",
       "       'Windows 10 S', 'Chrome OS', 'Windows 7'], dtype=object)"
      ]
     },
     "execution_count": 40,
     "metadata": {},
     "output_type": "execute_result"
    }
   ],
   "source": [
    "file.OpSys.unique()"
   ]
  },
  {
   "cell_type": "code",
   "execution_count": 41,
   "id": "a968a94a",
   "metadata": {},
   "outputs": [
    {
     "data": {
      "text/plain": [
       "0       1.37kg\n",
       "1       1.34kg\n",
       "2       1.86kg\n",
       "3       1.83kg\n",
       "4       1.37kg\n",
       "         ...  \n",
       "1298     1.8kg\n",
       "1299     1.3kg\n",
       "1300     1.5kg\n",
       "1301    2.19kg\n",
       "1302     2.2kg\n",
       "Name: Weight, Length: 1303, dtype: object"
      ]
     },
     "execution_count": 41,
     "metadata": {},
     "output_type": "execute_result"
    }
   ],
   "source": [
    "file.Weight"
   ]
  },
  {
   "cell_type": "markdown",
   "id": "1cb4a988",
   "metadata": {},
   "source": [
    "To clean the Weight column, i would remove the \"kg\" attached to each value after which i would convert the column into float"
   ]
  },
  {
   "cell_type": "code",
   "execution_count": 42,
   "id": "ad0af9cd",
   "metadata": {},
   "outputs": [],
   "source": [
    "file.Weight = file.Weight.apply(lambda x : x.strip(\"kg\")).astype(float)"
   ]
  },
  {
   "cell_type": "code",
   "execution_count": 45,
   "id": "27febf99",
   "metadata": {},
   "outputs": [
    {
     "data": {
      "text/plain": [
       "array(['128GB SSD', '128GB Flash Storage', '256GB SSD', '512GB SSD',\n",
       "       '500GB HDD', '256GB Flash Storage', '1TB HDD',\n",
       "       '32GB Flash Storage', '128GB SSD +  1TB HDD',\n",
       "       '256GB SSD +  256GB SSD', '64GB Flash Storage',\n",
       "       '256GB SSD +  1TB HDD', '256GB SSD +  2TB HDD', '32GB SSD',\n",
       "       '2TB HDD', '64GB SSD', '1.0TB Hybrid', '512GB SSD +  1TB HDD',\n",
       "       '1TB SSD', '256GB SSD +  500GB HDD', '128GB SSD +  2TB HDD',\n",
       "       '512GB SSD +  512GB SSD', '16GB SSD', '16GB Flash Storage',\n",
       "       '512GB SSD +  256GB SSD', '512GB SSD +  2TB HDD',\n",
       "       '64GB Flash Storage +  1TB HDD', '180GB SSD', '1TB HDD +  1TB HDD',\n",
       "       '32GB HDD', '1TB SSD +  1TB HDD', '512GB Flash Storage',\n",
       "       '128GB HDD', '240GB SSD', '8GB SSD', '508GB Hybrid', '1.0TB HDD',\n",
       "       '512GB SSD +  1.0TB Hybrid', '256GB SSD +  1.0TB Hybrid'],\n",
       "      dtype=object)"
      ]
     },
     "execution_count": 45,
     "metadata": {},
     "output_type": "execute_result"
    }
   ],
   "source": [
    "file.Memory.unique()"
   ]
  },
  {
   "cell_type": "markdown",
   "id": "e5544821",
   "metadata": {},
   "source": [
    "The Memory column is made up different memory types(\"SSD\", \"HDD\",\"Hybrid\",and \"Flash Storage\") and memory sizes. I would separate this column into four different columns.memory_type1, memory_type_2(for laptops with additional memory), memory1_size, memory2_size(for laptops with additional memory).Then i would change the memory in \"TB\" to \"GB\" to ensure uniformity.After this i would drop the original memory column."
   ]
  },
  {
   "cell_type": "code",
   "execution_count": 46,
   "id": "4ac08698",
   "metadata": {},
   "outputs": [],
   "source": [
    "def memory_type1(x): \n",
    "    length = len(x.split(\" \"))\n",
    "    if length == 2:\n",
    "        return x.split(\" \")[-1]\n",
    "    elif length == 3:\n",
    "        return x[-13:]\n",
    "    else: \n",
    "        return x.split(\" \")[1]"
   ]
  },
  {
   "cell_type": "code",
   "execution_count": 47,
   "id": "912ddf1e",
   "metadata": {},
   "outputs": [],
   "source": [
    "def Memory_type_2(x):\n",
    "    if len (x.split(\" \")) > 3:\n",
    "        return x.split(\" \")[-1]\n",
    "    else:\n",
    "        return \"None\""
   ]
  },
  {
   "cell_type": "code",
   "execution_count": 48,
   "id": "da4aeb4b",
   "metadata": {},
   "outputs": [],
   "source": [
    "def Memory1_size(x):\n",
    "    a =  x.split(\" \")[0]\n",
    "    if \"GB\" in a:\n",
    "        return float(a.strip(\"GB\"))\n",
    "    else:\n",
    "        b = float(a.strip(\"TB\"))\n",
    "        return (b * 1000)"
   ]
  },
  {
   "cell_type": "code",
   "execution_count": 49,
   "id": "90edcc14",
   "metadata": {},
   "outputs": [],
   "source": [
    "def Memory2_size(x):\n",
    "    if len(x.split(\" \")) > 3:\n",
    "        a = x.split(\" \")[-2]\n",
    "        if \"GB\" in a:\n",
    "            return float(a.strip(\"GB\"))\n",
    "        else:\n",
    "            b = float(a.strip(\"TB\"))\n",
    "            return (b * 1000)\n",
    "    else:\n",
    "        return(0)"
   ]
  },
  {
   "cell_type": "code",
   "execution_count": 50,
   "id": "ba1f4918",
   "metadata": {},
   "outputs": [],
   "source": [
    "file['Memory_Type_1'] = file.Memory.apply(lambda x : memory_type1(x))"
   ]
  },
  {
   "cell_type": "code",
   "execution_count": 51,
   "id": "55a50bbc",
   "metadata": {},
   "outputs": [],
   "source": [
    "file['Memory_Type_2'] = file.Memory.apply(lambda x : Memory_type_2(x))"
   ]
  },
  {
   "cell_type": "code",
   "execution_count": 52,
   "id": "179c6e6e",
   "metadata": {},
   "outputs": [],
   "source": [
    "file['Memory1_Size'] = file.Memory.apply(lambda x : Memory1_size(x))"
   ]
  },
  {
   "cell_type": "code",
   "execution_count": 53,
   "id": "3157d0de",
   "metadata": {},
   "outputs": [],
   "source": [
    "file[\"Memory2_Size\"] = file.Memory.apply(lambda x : Memory2_size(x))"
   ]
  },
  {
   "cell_type": "code",
   "execution_count": 59,
   "id": "92fe4846",
   "metadata": {},
   "outputs": [],
   "source": [
    "file.drop(columns = \"Memory\", inplace=True)"
   ]
  },
  {
   "cell_type": "code",
   "execution_count": 60,
   "id": "0d108f0b",
   "metadata": {},
   "outputs": [
    {
     "data": {
      "text/plain": [
       "0               IPS Panel Retina Display 2560x1600\n",
       "1                                         1440x900\n",
       "2                                Full HD 1920x1080\n",
       "3               IPS Panel Retina Display 2880x1800\n",
       "4               IPS Panel Retina Display 2560x1600\n",
       "                           ...                    \n",
       "1298     IPS Panel Full HD / Touchscreen 1920x1080\n",
       "1299    IPS Panel Quad HD+ / Touchscreen 3200x1800\n",
       "1300                                      1366x768\n",
       "1301                                      1366x768\n",
       "1302                                      1366x768\n",
       "Name: ScreenResolution, Length: 1303, dtype: object"
      ]
     },
     "execution_count": 60,
     "metadata": {},
     "output_type": "execute_result"
    }
   ],
   "source": [
    "file.ScreenResolution"
   ]
  },
  {
   "cell_type": "markdown",
   "id": "9707dfc7",
   "metadata": {},
   "source": [
    "The ScreenResoluton column contains the screen type, the screen resolution and wether or not the screen is touch screen. I would separate the column into three columns then drop the original column."
   ]
  },
  {
   "cell_type": "code",
   "execution_count": 61,
   "id": "00ace4d4",
   "metadata": {},
   "outputs": [],
   "source": [
    "def screen_type(x):\n",
    "    try:\n",
    "        if \"/\" in x:\n",
    "            a = x.split(\"/\")\n",
    "            if a[0] != \"Touchscreen \":\n",
    "                return a[0]\n",
    "            else:\n",
    "                b = a[1].split(\" \")\n",
    "                length = len(b[-1])\n",
    "                return (a[1][:-(length+1)])\n",
    "        else:\n",
    "            a = x.split(\" \")\n",
    "            if a[0] != \"Touchscreen\":\n",
    "                length = len(x.split(\" \")[-1]) + 1\n",
    "                return (x[:-length])\n",
    "            else:\n",
    "                pass \n",
    "    except:\n",
    "        pass"
   ]
  },
  {
   "cell_type": "code",
   "execution_count": 62,
   "id": "d1bc299d",
   "metadata": {},
   "outputs": [],
   "source": [
    "def Resolution (x):\n",
    "    try:\n",
    "        return (x.split(\" \")[-1])\n",
    "    except:\n",
    "        return(x)"
   ]
  },
  {
   "cell_type": "code",
   "execution_count": 63,
   "id": "73ed07f0",
   "metadata": {},
   "outputs": [],
   "source": [
    "def Touchscreen(x):\n",
    "    if \"Touchscreen\" in x:\n",
    "        return(1)\n",
    "    else:\n",
    "        return(0)"
   ]
  },
  {
   "cell_type": "code",
   "execution_count": 64,
   "id": "f15fca91",
   "metadata": {},
   "outputs": [],
   "source": [
    "file[\"Screen_Type\"] = file.ScreenResolution.apply(lambda x : screen_type(x))"
   ]
  },
  {
   "cell_type": "code",
   "execution_count": 65,
   "id": "2f8d65d6",
   "metadata": {},
   "outputs": [],
   "source": [
    "file[\"Resolution\"] = file.ScreenResolution.apply(lambda x : Resolution(x))"
   ]
  },
  {
   "cell_type": "code",
   "execution_count": 66,
   "id": "6968369a",
   "metadata": {},
   "outputs": [],
   "source": [
    "file[\"Touchscreen\"] = file.ScreenResolution.apply(lambda x : Touchscreen(x))"
   ]
  },
  {
   "cell_type": "code",
   "execution_count": 67,
   "id": "96424aef",
   "metadata": {},
   "outputs": [],
   "source": [
    "file.drop(columns=\"ScreenResolution\", inplace=True)"
   ]
  },
  {
   "cell_type": "code",
   "execution_count": 68,
   "id": "1f6fb8f2",
   "metadata": {},
   "outputs": [
    {
     "data": {
      "text/html": [
       "<div>\n",
       "<style scoped>\n",
       "    .dataframe tbody tr th:only-of-type {\n",
       "        vertical-align: middle;\n",
       "    }\n",
       "\n",
       "    .dataframe tbody tr th {\n",
       "        vertical-align: top;\n",
       "    }\n",
       "\n",
       "    .dataframe thead th {\n",
       "        text-align: right;\n",
       "    }\n",
       "</style>\n",
       "<table border=\"1\" class=\"dataframe\">\n",
       "  <thead>\n",
       "    <tr style=\"text-align: right;\">\n",
       "      <th></th>\n",
       "      <th>Inches</th>\n",
       "      <th>Ram</th>\n",
       "      <th>Weight</th>\n",
       "      <th>Price_euros</th>\n",
       "      <th>Speed</th>\n",
       "      <th>Memory1_Size</th>\n",
       "      <th>Memory2_Size</th>\n",
       "      <th>Touchscreen</th>\n",
       "    </tr>\n",
       "  </thead>\n",
       "  <tbody>\n",
       "    <tr>\n",
       "      <th>count</th>\n",
       "      <td>1303.000000</td>\n",
       "      <td>1303.000000</td>\n",
       "      <td>1303.000000</td>\n",
       "      <td>1303.000000</td>\n",
       "      <td>1303.000000</td>\n",
       "      <td>1303.000000</td>\n",
       "      <td>1303.000000</td>\n",
       "      <td>1303.000000</td>\n",
       "    </tr>\n",
       "    <tr>\n",
       "      <th>mean</th>\n",
       "      <td>15.017191</td>\n",
       "      <td>8.382195</td>\n",
       "      <td>2.038734</td>\n",
       "      <td>1123.686992</td>\n",
       "      <td>2.298772</td>\n",
       "      <td>442.615503</td>\n",
       "      <td>168.288565</td>\n",
       "      <td>0.147352</td>\n",
       "    </tr>\n",
       "    <tr>\n",
       "      <th>std</th>\n",
       "      <td>1.426304</td>\n",
       "      <td>5.084665</td>\n",
       "      <td>0.665475</td>\n",
       "      <td>699.009043</td>\n",
       "      <td>0.506340</td>\n",
       "      <td>356.225802</td>\n",
       "      <td>402.618575</td>\n",
       "      <td>0.354593</td>\n",
       "    </tr>\n",
       "    <tr>\n",
       "      <th>min</th>\n",
       "      <td>10.100000</td>\n",
       "      <td>2.000000</td>\n",
       "      <td>0.690000</td>\n",
       "      <td>174.000000</td>\n",
       "      <td>0.900000</td>\n",
       "      <td>8.000000</td>\n",
       "      <td>0.000000</td>\n",
       "      <td>0.000000</td>\n",
       "    </tr>\n",
       "    <tr>\n",
       "      <th>25%</th>\n",
       "      <td>14.000000</td>\n",
       "      <td>4.000000</td>\n",
       "      <td>1.500000</td>\n",
       "      <td>599.000000</td>\n",
       "      <td>2.000000</td>\n",
       "      <td>256.000000</td>\n",
       "      <td>0.000000</td>\n",
       "      <td>0.000000</td>\n",
       "    </tr>\n",
       "    <tr>\n",
       "      <th>50%</th>\n",
       "      <td>15.600000</td>\n",
       "      <td>8.000000</td>\n",
       "      <td>2.040000</td>\n",
       "      <td>977.000000</td>\n",
       "      <td>2.500000</td>\n",
       "      <td>256.000000</td>\n",
       "      <td>0.000000</td>\n",
       "      <td>0.000000</td>\n",
       "    </tr>\n",
       "    <tr>\n",
       "      <th>75%</th>\n",
       "      <td>15.600000</td>\n",
       "      <td>8.000000</td>\n",
       "      <td>2.300000</td>\n",
       "      <td>1487.880000</td>\n",
       "      <td>2.700000</td>\n",
       "      <td>512.000000</td>\n",
       "      <td>0.000000</td>\n",
       "      <td>0.000000</td>\n",
       "    </tr>\n",
       "    <tr>\n",
       "      <th>max</th>\n",
       "      <td>18.400000</td>\n",
       "      <td>64.000000</td>\n",
       "      <td>4.700000</td>\n",
       "      <td>6099.000000</td>\n",
       "      <td>3.600000</td>\n",
       "      <td>2000.000000</td>\n",
       "      <td>2000.000000</td>\n",
       "      <td>1.000000</td>\n",
       "    </tr>\n",
       "  </tbody>\n",
       "</table>\n",
       "</div>"
      ],
      "text/plain": [
       "            Inches          Ram       Weight  Price_euros        Speed  \\\n",
       "count  1303.000000  1303.000000  1303.000000  1303.000000  1303.000000   \n",
       "mean     15.017191     8.382195     2.038734  1123.686992     2.298772   \n",
       "std       1.426304     5.084665     0.665475   699.009043     0.506340   \n",
       "min      10.100000     2.000000     0.690000   174.000000     0.900000   \n",
       "25%      14.000000     4.000000     1.500000   599.000000     2.000000   \n",
       "50%      15.600000     8.000000     2.040000   977.000000     2.500000   \n",
       "75%      15.600000     8.000000     2.300000  1487.880000     2.700000   \n",
       "max      18.400000    64.000000     4.700000  6099.000000     3.600000   \n",
       "\n",
       "       Memory1_Size  Memory2_Size  Touchscreen  \n",
       "count   1303.000000   1303.000000  1303.000000  \n",
       "mean     442.615503    168.288565     0.147352  \n",
       "std      356.225802    402.618575     0.354593  \n",
       "min        8.000000      0.000000     0.000000  \n",
       "25%      256.000000      0.000000     0.000000  \n",
       "50%      256.000000      0.000000     0.000000  \n",
       "75%      512.000000      0.000000     0.000000  \n",
       "max     2000.000000   2000.000000     1.000000  "
      ]
     },
     "execution_count": 68,
     "metadata": {},
     "output_type": "execute_result"
    }
   ],
   "source": [
    "file.describe()"
   ]
  },
  {
   "cell_type": "markdown",
   "id": "5862fb64",
   "metadata": {},
   "source": [
    "# Data Analysis "
   ]
  },
  {
   "cell_type": "markdown",
   "id": "0365f9dd",
   "metadata": {},
   "source": [
    "This a quick analysis on the dataset.From the graphs below, we can see that the laptops with least prices are majorly (Netbook and Notebook) and the most expensive laptops in the dataset are majorly (gaming,notebook and workstation).Thus,its obvious that the type of laptop is an important determinant of its price.Though the type of laptop can not solemly determine the price of a laptop.Most laptops with smaller prices have a speed of about \"1.60 or less\". This also plays an important role in determining the prices of Laptops."
   ]
  },
  {
   "cell_type": "markdown",
   "id": "66cf1e72",
   "metadata": {},
   "source": [
    "## Laptop Type Vs Price"
   ]
  },
  {
   "cell_type": "code",
   "execution_count": 160,
   "id": "026965f7",
   "metadata": {},
   "outputs": [
    {
     "data": {
      "text/plain": [
       "Text(0.5, 1.0, 'Most expensive Laptops(Type)')"
      ]
     },
     "execution_count": 160,
     "metadata": {},
     "output_type": "execute_result"
    },
    {
     "data": {
      "image/png": "[encoded data removed]",
      "text/plain": [
       "<Figure size 432x288 with 1 Axes>"
      ]
     },
     "metadata": {
      "needs_background": "light"
     },
     "output_type": "display_data"
    }
   ],
   "source": [
    "df1 = file[file[\"Price_euros\"].isin(file.Price_euros.nlargest(5).tolist())]\n",
    "plt.bar(height = df1.Price_euros, x = df1.TypeName)\n",
    "plt.title(\"Most expensive Laptops(Type)\")"
   ]
  },
  {
   "cell_type": "code",
   "execution_count": 161,
   "id": "0138694f",
   "metadata": {},
   "outputs": [
    {
     "data": {
      "text/plain": [
       "Text(0.5, 1.0, 'Least expensive Laptops(Type)')"
      ]
     },
     "execution_count": 161,
     "metadata": {},
     "output_type": "execute_result"
    },
    {
     "data": {
      "image/png": "[encoded data removed]",
      "text/plain": [
       "<Figure size 432x288 with 1 Axes>"
      ]
     },
     "metadata": {
      "needs_background": "light"
     },
     "output_type": "display_data"
    }
   ],
   "source": [
    "df2 = file[file[\"Price_euros\"].isin(file.Price_euros.nsmallest(5).tolist())]\n",
    "plt.bar(height = df1.Price_euros, x = df2.TypeName)\n",
    "plt.title(\"Least expensive Laptops(Type)\")"
   ]
  },
  {
   "cell_type": "markdown",
   "id": "d1c10754",
   "metadata": {},
   "source": [
    "## Speed Vs Price"
   ]
  },
  {
   "cell_type": "code",
   "execution_count": 169,
   "id": "edfcc2ca",
   "metadata": {},
   "outputs": [
    {
     "data": {
      "text/html": [
       "<div>\n",
       "<style scoped>\n",
       "    .dataframe tbody tr th:only-of-type {\n",
       "        vertical-align: middle;\n",
       "    }\n",
       "\n",
       "    .dataframe tbody tr th {\n",
       "        vertical-align: top;\n",
       "    }\n",
       "\n",
       "    .dataframe thead th {\n",
       "        text-align: right;\n",
       "    }\n",
       "</style>\n",
       "<table border=\"1\" class=\"dataframe\">\n",
       "  <thead>\n",
       "    <tr style=\"text-align: right;\">\n",
       "      <th></th>\n",
       "      <th>Speed</th>\n",
       "      <th>Price_euros</th>\n",
       "    </tr>\n",
       "  </thead>\n",
       "  <tbody>\n",
       "    <tr>\n",
       "      <th>20</th>\n",
       "      <td>1.44</td>\n",
       "      <td>191.9</td>\n",
       "    </tr>\n",
       "    <tr>\n",
       "      <th>31</th>\n",
       "      <td>1.50</td>\n",
       "      <td>199.0</td>\n",
       "    </tr>\n",
       "    <tr>\n",
       "      <th>290</th>\n",
       "      <td>1.50</td>\n",
       "      <td>199.0</td>\n",
       "    </tr>\n",
       "    <tr>\n",
       "      <th>1120</th>\n",
       "      <td>1.44</td>\n",
       "      <td>196.0</td>\n",
       "    </tr>\n",
       "    <tr>\n",
       "      <th>1215</th>\n",
       "      <td>1.50</td>\n",
       "      <td>174.0</td>\n",
       "    </tr>\n",
       "    <tr>\n",
       "      <th>196</th>\n",
       "      <td>2.90</td>\n",
       "      <td>6099.0</td>\n",
       "    </tr>\n",
       "    <tr>\n",
       "      <th>610</th>\n",
       "      <td>3.10</td>\n",
       "      <td>4899.0</td>\n",
       "    </tr>\n",
       "    <tr>\n",
       "      <th>749</th>\n",
       "      <td>2.90</td>\n",
       "      <td>4389.0</td>\n",
       "    </tr>\n",
       "    <tr>\n",
       "      <th>830</th>\n",
       "      <td>2.90</td>\n",
       "      <td>5499.0</td>\n",
       "    </tr>\n",
       "    <tr>\n",
       "      <th>1066</th>\n",
       "      <td>2.70</td>\n",
       "      <td>3975.0</td>\n",
       "    </tr>\n",
       "  </tbody>\n",
       "</table>\n",
       "</div>"
      ],
      "text/plain": [
       "      Speed  Price_euros\n",
       "20     1.44        191.9\n",
       "31     1.50        199.0\n",
       "290    1.50        199.0\n",
       "1120   1.44        196.0\n",
       "1215   1.50        174.0\n",
       "196    2.90       6099.0\n",
       "610    3.10       4899.0\n",
       "749    2.90       4389.0\n",
       "830    2.90       5499.0\n",
       "1066   2.70       3975.0"
      ]
     },
     "execution_count": 169,
     "metadata": {},
     "output_type": "execute_result"
    }
   ],
   "source": [
    "df3 = file[file[\"Price_euros\"].isin(file.Price_euros.nsmallest(5).tolist())]\n",
    "df4 = file[file[\"Price_euros\"].isin(file.Price_euros.nlargest(5).tolist())]\n",
    "pd.concat([df3, df4])[[\"Speed\", \"Price_euros\"]]"
   ]
  },
  {
   "cell_type": "markdown",
   "id": "35233961",
   "metadata": {},
   "source": [
    "## Memory Type Vs Price"
   ]
  },
  {
   "cell_type": "markdown",
   "id": "fe83255b",
   "metadata": {},
   "source": [
    "From the table and chart below we can see that most expensive laptops have \"SSD\" as their main memory with any other type of memory as an additional memory(or none). On the other hand, laptops with least prices majorly use \"Flash memory\" as their main memory with no additional memory."
   ]
  },
  {
   "cell_type": "code",
   "execution_count": 194,
   "id": "3fd7aa08",
   "metadata": {},
   "outputs": [],
   "source": [
    "df5 = file[file[\"Price_euros\"].isin(file.Price_euros.nsmallest(20).tolist())]\n",
    "df6 =  file[file[\"Price_euros\"].isin(file.Price_euros.nlargest(10).tolist())]"
   ]
  },
  {
   "cell_type": "code",
   "execution_count": 196,
   "id": "cfb3b67f",
   "metadata": {},
   "outputs": [
    {
     "data": {
      "text/html": [
       "<div>\n",
       "<style scoped>\n",
       "    .dataframe tbody tr th:only-of-type {\n",
       "        vertical-align: middle;\n",
       "    }\n",
       "\n",
       "    .dataframe tbody tr th {\n",
       "        vertical-align: top;\n",
       "    }\n",
       "\n",
       "    .dataframe thead th {\n",
       "        text-align: right;\n",
       "    }\n",
       "</style>\n",
       "<table border=\"1\" class=\"dataframe\">\n",
       "  <thead>\n",
       "    <tr style=\"text-align: right;\">\n",
       "      <th></th>\n",
       "      <th>Memory_Type_1</th>\n",
       "      <th>Memory_Type_2</th>\n",
       "      <th>Price_euros</th>\n",
       "    </tr>\n",
       "  </thead>\n",
       "  <tbody>\n",
       "    <tr>\n",
       "      <th>196</th>\n",
       "      <td>SSD</td>\n",
       "      <td>None</td>\n",
       "      <td>6099.0</td>\n",
       "    </tr>\n",
       "    <tr>\n",
       "      <th>238</th>\n",
       "      <td>SSD</td>\n",
       "      <td>HDD</td>\n",
       "      <td>3890.0</td>\n",
       "    </tr>\n",
       "    <tr>\n",
       "      <th>610</th>\n",
       "      <td>SSD</td>\n",
       "      <td>None</td>\n",
       "      <td>4899.0</td>\n",
       "    </tr>\n",
       "    <tr>\n",
       "      <th>723</th>\n",
       "      <td>SSD</td>\n",
       "      <td>HDD</td>\n",
       "      <td>3659.4</td>\n",
       "    </tr>\n",
       "    <tr>\n",
       "      <th>749</th>\n",
       "      <td>SSD</td>\n",
       "      <td>None</td>\n",
       "      <td>4389.0</td>\n",
       "    </tr>\n",
       "    <tr>\n",
       "      <th>780</th>\n",
       "      <td>SSD</td>\n",
       "      <td>HDD</td>\n",
       "      <td>3588.8</td>\n",
       "    </tr>\n",
       "    <tr>\n",
       "      <th>830</th>\n",
       "      <td>SSD</td>\n",
       "      <td>None</td>\n",
       "      <td>5499.0</td>\n",
       "    </tr>\n",
       "    <tr>\n",
       "      <th>1066</th>\n",
       "      <td>SSD</td>\n",
       "      <td>None</td>\n",
       "      <td>3975.0</td>\n",
       "    </tr>\n",
       "    <tr>\n",
       "      <th>1136</th>\n",
       "      <td>SSD</td>\n",
       "      <td>None</td>\n",
       "      <td>3949.4</td>\n",
       "    </tr>\n",
       "    <tr>\n",
       "      <th>1231</th>\n",
       "      <td>SSD</td>\n",
       "      <td>None</td>\n",
       "      <td>3499.0</td>\n",
       "    </tr>\n",
       "  </tbody>\n",
       "</table>\n",
       "</div>"
      ],
      "text/plain": [
       "     Memory_Type_1 Memory_Type_2  Price_euros\n",
       "196            SSD          None       6099.0\n",
       "238            SSD           HDD       3890.0\n",
       "610            SSD          None       4899.0\n",
       "723            SSD           HDD       3659.4\n",
       "749            SSD          None       4389.0\n",
       "780            SSD           HDD       3588.8\n",
       "830            SSD          None       5499.0\n",
       "1066           SSD          None       3975.0\n",
       "1136           SSD          None       3949.4\n",
       "1231           SSD          None       3499.0"
      ]
     },
     "execution_count": 196,
     "metadata": {},
     "output_type": "execute_result"
    }
   ],
   "source": [
    "df6[['Memory_Type_1','Memory_Type_2', 'Price_euros']]"
   ]
  },
  {
   "cell_type": "code",
   "execution_count": 185,
   "id": "6afa018d",
   "metadata": {},
   "outputs": [
    {
     "data": {
      "text/plain": [
       "Text(0.5, 1.0, 'Least expensive Laptops(Memory_Type)')"
      ]
     },
     "execution_count": 185,
     "metadata": {},
     "output_type": "execute_result"
    },
    {
     "data": {
      "image/png": "[encoded data removed]",
      "text/plain": [
       "<Figure size 432x288 with 1 Axes>"
      ]
     },
     "metadata": {
      "needs_background": "light"
     },
     "output_type": "display_data"
    }
   ],
   "source": [
    "df5.Memory_Type_1.value_counts().plot(kind = 'bar')\n",
    "plt.title(\"Least expensive Laptops(Memory_Type)\")"
   ]
  },
  {
   "cell_type": "markdown",
   "id": "72f97a99",
   "metadata": {},
   "source": [
    "## Memory Size Vs Price"
   ]
  },
  {
   "cell_type": "markdown",
   "id": "7b1f9fd6",
   "metadata": {},
   "source": [
    "As we can see from the tables, most expensive laptops have large memory storage ranging from (256 to 1000 gigabytes). On the other hand most least expensive laptops have significantlly low memory storage. "
   ]
  },
  {
   "cell_type": "code",
   "execution_count": 200,
   "id": "2f71081e",
   "metadata": {},
   "outputs": [
    {
     "data": {
      "text/html": [
       "<div>\n",
       "<style scoped>\n",
       "    .dataframe tbody tr th:only-of-type {\n",
       "        vertical-align: middle;\n",
       "    }\n",
       "\n",
       "    .dataframe tbody tr th {\n",
       "        vertical-align: top;\n",
       "    }\n",
       "\n",
       "    .dataframe thead th {\n",
       "        text-align: right;\n",
       "    }\n",
       "</style>\n",
       "<table border=\"1\" class=\"dataframe\">\n",
       "  <thead>\n",
       "    <tr style=\"text-align: right;\">\n",
       "      <th></th>\n",
       "      <th>Memory1_Size</th>\n",
       "      <th>Memory2_Size</th>\n",
       "      <th>Price_euros</th>\n",
       "    </tr>\n",
       "  </thead>\n",
       "  <tbody>\n",
       "    <tr>\n",
       "      <th>196</th>\n",
       "      <td>1000.0</td>\n",
       "      <td>0.0</td>\n",
       "      <td>6099.0</td>\n",
       "    </tr>\n",
       "    <tr>\n",
       "      <th>238</th>\n",
       "      <td>512.0</td>\n",
       "      <td>1000.0</td>\n",
       "      <td>3890.0</td>\n",
       "    </tr>\n",
       "    <tr>\n",
       "      <th>610</th>\n",
       "      <td>1000.0</td>\n",
       "      <td>0.0</td>\n",
       "      <td>4899.0</td>\n",
       "    </tr>\n",
       "    <tr>\n",
       "      <th>723</th>\n",
       "      <td>1000.0</td>\n",
       "      <td>1000.0</td>\n",
       "      <td>3659.4</td>\n",
       "    </tr>\n",
       "    <tr>\n",
       "      <th>749</th>\n",
       "      <td>256.0</td>\n",
       "      <td>0.0</td>\n",
       "      <td>4389.0</td>\n",
       "    </tr>\n",
       "    <tr>\n",
       "      <th>780</th>\n",
       "      <td>1000.0</td>\n",
       "      <td>1000.0</td>\n",
       "      <td>3588.8</td>\n",
       "    </tr>\n",
       "    <tr>\n",
       "      <th>830</th>\n",
       "      <td>512.0</td>\n",
       "      <td>0.0</td>\n",
       "      <td>5499.0</td>\n",
       "    </tr>\n",
       "    <tr>\n",
       "      <th>1066</th>\n",
       "      <td>1000.0</td>\n",
       "      <td>0.0</td>\n",
       "      <td>3975.0</td>\n",
       "    </tr>\n",
       "    <tr>\n",
       "      <th>1136</th>\n",
       "      <td>256.0</td>\n",
       "      <td>0.0</td>\n",
       "      <td>3949.4</td>\n",
       "    </tr>\n",
       "    <tr>\n",
       "      <th>1231</th>\n",
       "      <td>1000.0</td>\n",
       "      <td>0.0</td>\n",
       "      <td>3499.0</td>\n",
       "    </tr>\n",
       "  </tbody>\n",
       "</table>\n",
       "</div>"
      ],
      "text/plain": [
       "      Memory1_Size  Memory2_Size  Price_euros\n",
       "196         1000.0           0.0       6099.0\n",
       "238          512.0        1000.0       3890.0\n",
       "610         1000.0           0.0       4899.0\n",
       "723         1000.0        1000.0       3659.4\n",
       "749          256.0           0.0       4389.0\n",
       "780         1000.0        1000.0       3588.8\n",
       "830          512.0           0.0       5499.0\n",
       "1066        1000.0           0.0       3975.0\n",
       "1136         256.0           0.0       3949.4\n",
       "1231        1000.0           0.0       3499.0"
      ]
     },
     "execution_count": 200,
     "metadata": {},
     "output_type": "execute_result"
    }
   ],
   "source": [
    "df6[['Memory1_Size','Memory2_Size', 'Price_euros']]"
   ]
  },
  {
   "cell_type": "code",
   "execution_count": 201,
   "id": "42ca9dc9",
   "metadata": {},
   "outputs": [
    {
     "data": {
      "text/html": [
       "<div>\n",
       "<style scoped>\n",
       "    .dataframe tbody tr th:only-of-type {\n",
       "        vertical-align: middle;\n",
       "    }\n",
       "\n",
       "    .dataframe tbody tr th {\n",
       "        vertical-align: top;\n",
       "    }\n",
       "\n",
       "    .dataframe thead th {\n",
       "        text-align: right;\n",
       "    }\n",
       "</style>\n",
       "<table border=\"1\" class=\"dataframe\">\n",
       "  <thead>\n",
       "    <tr style=\"text-align: right;\">\n",
       "      <th></th>\n",
       "      <th>Memory1_Size</th>\n",
       "      <th>Memory2_Size</th>\n",
       "      <th>Price_euros</th>\n",
       "    </tr>\n",
       "  </thead>\n",
       "  <tbody>\n",
       "    <tr>\n",
       "      <th>20</th>\n",
       "      <td>32.0</td>\n",
       "      <td>0.0</td>\n",
       "      <td>191.90</td>\n",
       "    </tr>\n",
       "    <tr>\n",
       "      <th>30</th>\n",
       "      <td>64.0</td>\n",
       "      <td>0.0</td>\n",
       "      <td>244.99</td>\n",
       "    </tr>\n",
       "    <tr>\n",
       "      <th>31</th>\n",
       "      <td>32.0</td>\n",
       "      <td>0.0</td>\n",
       "      <td>199.00</td>\n",
       "    </tr>\n",
       "    <tr>\n",
       "      <th>67</th>\n",
       "      <td>32.0</td>\n",
       "      <td>0.0</td>\n",
       "      <td>229.00</td>\n",
       "    </tr>\n",
       "    <tr>\n",
       "      <th>290</th>\n",
       "      <td>16.0</td>\n",
       "      <td>0.0</td>\n",
       "      <td>199.00</td>\n",
       "    </tr>\n",
       "    <tr>\n",
       "      <th>483</th>\n",
       "      <td>64.0</td>\n",
       "      <td>0.0</td>\n",
       "      <td>248.90</td>\n",
       "    </tr>\n",
       "    <tr>\n",
       "      <th>515</th>\n",
       "      <td>32.0</td>\n",
       "      <td>0.0</td>\n",
       "      <td>245.00</td>\n",
       "    </tr>\n",
       "    <tr>\n",
       "      <th>555</th>\n",
       "      <td>500.0</td>\n",
       "      <td>0.0</td>\n",
       "      <td>224.00</td>\n",
       "    </tr>\n",
       "    <tr>\n",
       "      <th>626</th>\n",
       "      <td>32.0</td>\n",
       "      <td>0.0</td>\n",
       "      <td>239.00</td>\n",
       "    </tr>\n",
       "    <tr>\n",
       "      <th>791</th>\n",
       "      <td>32.0</td>\n",
       "      <td>0.0</td>\n",
       "      <td>202.90</td>\n",
       "    </tr>\n",
       "    <tr>\n",
       "      <th>1041</th>\n",
       "      <td>32.0</td>\n",
       "      <td>0.0</td>\n",
       "      <td>210.80</td>\n",
       "    </tr>\n",
       "    <tr>\n",
       "      <th>1102</th>\n",
       "      <td>16.0</td>\n",
       "      <td>0.0</td>\n",
       "      <td>209.00</td>\n",
       "    </tr>\n",
       "    <tr>\n",
       "      <th>1120</th>\n",
       "      <td>32.0</td>\n",
       "      <td>0.0</td>\n",
       "      <td>196.00</td>\n",
       "    </tr>\n",
       "    <tr>\n",
       "      <th>1215</th>\n",
       "      <td>32.0</td>\n",
       "      <td>0.0</td>\n",
       "      <td>174.00</td>\n",
       "    </tr>\n",
       "    <tr>\n",
       "      <th>1268</th>\n",
       "      <td>32.0</td>\n",
       "      <td>0.0</td>\n",
       "      <td>209.00</td>\n",
       "    </tr>\n",
       "    <tr>\n",
       "      <th>1272</th>\n",
       "      <td>64.0</td>\n",
       "      <td>0.0</td>\n",
       "      <td>229.00</td>\n",
       "    </tr>\n",
       "    <tr>\n",
       "      <th>1282</th>\n",
       "      <td>32.0</td>\n",
       "      <td>0.0</td>\n",
       "      <td>209.00</td>\n",
       "    </tr>\n",
       "    <tr>\n",
       "      <th>1286</th>\n",
       "      <td>64.0</td>\n",
       "      <td>0.0</td>\n",
       "      <td>229.00</td>\n",
       "    </tr>\n",
       "    <tr>\n",
       "      <th>1296</th>\n",
       "      <td>32.0</td>\n",
       "      <td>0.0</td>\n",
       "      <td>209.00</td>\n",
       "    </tr>\n",
       "    <tr>\n",
       "      <th>1300</th>\n",
       "      <td>64.0</td>\n",
       "      <td>0.0</td>\n",
       "      <td>229.00</td>\n",
       "    </tr>\n",
       "  </tbody>\n",
       "</table>\n",
       "</div>"
      ],
      "text/plain": [
       "      Memory1_Size  Memory2_Size  Price_euros\n",
       "20            32.0           0.0       191.90\n",
       "30            64.0           0.0       244.99\n",
       "31            32.0           0.0       199.00\n",
       "67            32.0           0.0       229.00\n",
       "290           16.0           0.0       199.00\n",
       "483           64.0           0.0       248.90\n",
       "515           32.0           0.0       245.00\n",
       "555          500.0           0.0       224.00\n",
       "626           32.0           0.0       239.00\n",
       "791           32.0           0.0       202.90\n",
       "1041          32.0           0.0       210.80\n",
       "1102          16.0           0.0       209.00\n",
       "1120          32.0           0.0       196.00\n",
       "1215          32.0           0.0       174.00\n",
       "1268          32.0           0.0       209.00\n",
       "1272          64.0           0.0       229.00\n",
       "1282          32.0           0.0       209.00\n",
       "1286          64.0           0.0       229.00\n",
       "1296          32.0           0.0       209.00\n",
       "1300          64.0           0.0       229.00"
      ]
     },
     "execution_count": 201,
     "metadata": {},
     "output_type": "execute_result"
    }
   ],
   "source": [
    "df5[['Memory1_Size','Memory2_Size', 'Price_euros']]"
   ]
  },
  {
   "cell_type": "markdown",
   "id": "b5769697",
   "metadata": {},
   "source": [
    "# Further Data Cleaning"
   ]
  },
  {
   "cell_type": "code",
   "execution_count": 203,
   "id": "5d7e4079",
   "metadata": {},
   "outputs": [
    {
     "data": {
      "text/plain": [
       "256.0     508\n",
       "1000.0    250\n",
       "128.0     177\n",
       "512.0     140\n",
       "500.0     132\n",
       "32.0       45\n",
       "64.0       17\n",
       "2000.0     16\n",
       "16.0       10\n",
       "180.0       5\n",
       "240.0       1\n",
       "8.0         1\n",
       "508.0       1\n",
       "Name: Memory1_Size, dtype: int64"
      ]
     },
     "execution_count": 203,
     "metadata": {},
     "output_type": "execute_result"
    }
   ],
   "source": [
    "file.Memory1_Size.value_counts()"
   ]
  },
  {
   "cell_type": "code",
   "execution_count": 204,
   "id": "ff5bc361",
   "metadata": {},
   "outputs": [
    {
     "data": {
      "text/plain": [
       "0.0       1095\n",
       "1000.0     187\n",
       "2000.0      15\n",
       "256.0        3\n",
       "500.0        2\n",
       "512.0        1\n",
       "Name: Memory2_Size, dtype: int64"
      ]
     },
     "execution_count": 204,
     "metadata": {},
     "output_type": "execute_result"
    }
   ],
   "source": [
    "file.Memory2_Size.value_counts()"
   ]
  },
  {
   "cell_type": "markdown",
   "id": "c3e526f1",
   "metadata": {},
   "source": [
    "I would drop some values in memory1_size and memory2_size columns.These values only occured one time in the dataset so they would not help the model much"
   ]
  },
  {
   "cell_type": "code",
   "execution_count": 205,
   "id": "109df381",
   "metadata": {},
   "outputs": [],
   "source": [
    "file.drop(file[file.Memory1_Size.isin([240.0,8.0,508.0])].index, axis = 0, inplace = True)\n",
    "file.drop(file[file.Memory2_Size.isin([512.0])].index, axis = 0, inplace= True)"
   ]
  },
  {
   "cell_type": "code",
   "execution_count": 207,
   "id": "db5d8bfd",
   "metadata": {},
   "outputs": [
    {
     "data": {
      "text/plain": [
       "SSD              840\n",
       "HDD              375\n",
       "Flash Storage     74\n",
       "Hybrid             9\n",
       "Flash              1\n",
       "Name: Memory_Type_1, dtype: int64"
      ]
     },
     "execution_count": 207,
     "metadata": {},
     "output_type": "execute_result"
    }
   ],
   "source": [
    "file.Memory_Type_1.value_counts()"
   ]
  },
  {
   "cell_type": "code",
   "execution_count": 208,
   "id": "e9730d11",
   "metadata": {},
   "outputs": [
    {
     "data": {
      "text/plain": [
       "None      1092\n",
       "HDD        202\n",
       "SSD          3\n",
       "Hybrid       2\n",
       "Name: Memory_Type_2, dtype: int64"
      ]
     },
     "execution_count": 208,
     "metadata": {},
     "output_type": "execute_result"
    }
   ],
   "source": [
    "file.Memory_Type_2.value_counts()"
   ]
  },
  {
   "cell_type": "code",
   "execution_count": 211,
   "id": "d9f7e7a6",
   "metadata": {},
   "outputs": [],
   "source": [
    "file.drop(file[file.Memory_Type_1 == \"Flash\"].index, axis = 0, inplace=True)"
   ]
  },
  {
   "cell_type": "markdown",
   "id": "c9608156",
   "metadata": {},
   "source": [
    "The function below is just to eliminate any whitespace in the Screen_type column"
   ]
  },
  {
   "cell_type": "code",
   "execution_count": 215,
   "id": "1a1a2639",
   "metadata": {},
   "outputs": [],
   "source": [
    "def strip_x(x):\n",
    "    try: \n",
    "        return (x.strip())\n",
    "    except:\n",
    "        pass"
   ]
  },
  {
   "cell_type": "code",
   "execution_count": 216,
   "id": "ed791b8f",
   "metadata": {},
   "outputs": [],
   "source": [
    "file[\"Screen_Type\"] = file.Screen_Type.apply(lambda x : strip_x(x))"
   ]
  },
  {
   "cell_type": "markdown",
   "id": "a355cc17",
   "metadata": {},
   "source": [
    " "
   ]
  },
  {
   "cell_type": "markdown",
   "id": "b33c94f5",
   "metadata": {},
   "source": [
    "From the distplot below, we can see that the Price_euros column is right skewed. To elimimate this, i would log_transform the column"
   ]
  },
  {
   "cell_type": "code",
   "execution_count": 221,
   "id": "c297d557",
   "metadata": {},
   "outputs": [
    {
     "name": "stderr",
     "output_type": "stream",
     "text": [
      "C:\\Users\\User\\anaconda3\\lib\\site-packages\\seaborn\\distributions.py:2619: FutureWarning: `distplot` is a deprecated function and will be removed in a future version. Please adapt your code to use either `displot` (a figure-level function with similar flexibility) or `histplot` (an axes-level function for histograms).\n",
      "  warnings.warn(msg, FutureWarning)\n"
     ]
    },
    {
     "data": {
      "text/plain": [
       "<AxesSubplot:xlabel='Price_euros', ylabel='Density'>"
      ]
     },
     "execution_count": 221,
     "metadata": {},
     "output_type": "execute_result"
    },
    {
     "data": {
      "image/png": "[encoded data removed]",
      "text/plain": [
       "<Figure size 432x288 with 1 Axes>"
      ]
     },
     "metadata": {
      "needs_background": "light"
     },
     "output_type": "display_data"
    }
   ],
   "source": [
    "sns.distplot(file.Price_euros)"
   ]
  },
  {
   "cell_type": "code",
   "execution_count": 222,
   "id": "c414e27f",
   "metadata": {},
   "outputs": [],
   "source": [
    "file[\"Price_euros\"] = np.log(file.Price_euros)"
   ]
  },
  {
   "cell_type": "code",
   "execution_count": 225,
   "id": "96f42ded",
   "metadata": {},
   "outputs": [
    {
     "name": "stderr",
     "output_type": "stream",
     "text": [
      "C:\\Users\\User\\anaconda3\\lib\\site-packages\\seaborn\\distributions.py:2619: FutureWarning: `distplot` is a deprecated function and will be removed in a future version. Please adapt your code to use either `displot` (a figure-level function with similar flexibility) or `histplot` (an axes-level function for histograms).\n",
      "  warnings.warn(msg, FutureWarning)\n"
     ]
    },
    {
     "data": {
      "text/plain": [
       "<AxesSubplot:xlabel='Price_euros', ylabel='Density'>"
      ]
     },
     "execution_count": 225,
     "metadata": {},
     "output_type": "execute_result"
    },
    {
     "data": {
      "image/png": "[encoded data removed]",
      "text/plain": [
       "<Figure size 432x288 with 1 Axes>"
      ]
     },
     "metadata": {
      "needs_background": "light"
     },
     "output_type": "display_data"
    }
   ],
   "source": [
    "sns.distplot(file.Price_euros)"
   ]
  },
  {
   "cell_type": "markdown",
   "id": "04c3dbe6",
   "metadata": {},
   "source": [
    "# Most frequent Cpu"
   ]
  },
  {
   "cell_type": "code",
   "execution_count": 226,
   "id": "e2df652a",
   "metadata": {},
   "outputs": [],
   "source": [
    "def count_val(x):\n",
    "    if \"Intel\" in x:\n",
    "        return \"Intel\"\n",
    "    elif \"AMD\" in x:\n",
    "        return (\"AMD\")\n",
    "    else:\n",
    "        return (x.split (' ')[0])"
   ]
  },
  {
   "cell_type": "code",
   "execution_count": 227,
   "id": "184cda6d",
   "metadata": {},
   "outputs": [
    {
     "data": {
      "text/plain": [
       "Intel      1235\n",
       "AMD          62\n",
       "Samsung       1\n",
       "Name: Cpu, dtype: int64"
      ]
     },
     "execution_count": 227,
     "metadata": {},
     "output_type": "execute_result"
    }
   ],
   "source": [
    "file.Cpu.apply(lambda x : count_val(x)).value_counts()"
   ]
  },
  {
   "cell_type": "markdown",
   "id": "b142a543",
   "metadata": {},
   "source": [
    "Since Samsun only appears once in the Cpu column, i would drop this value. It doesn't help the model much"
   ]
  },
  {
   "cell_type": "code",
   "execution_count": 228,
   "id": "5a2ca34e",
   "metadata": {},
   "outputs": [],
   "source": [
    "file.drop(file[file.Cpu.str.contains(\"Samsung\")].index, axis = 0, inplace=True)"
   ]
  },
  {
   "cell_type": "code",
   "execution_count": 229,
   "id": "3ceb1093",
   "metadata": {},
   "outputs": [
    {
     "data": {
      "text/plain": [
       "Intel    1235\n",
       "AMD        62\n",
       "Name: Cpu, dtype: int64"
      ]
     },
     "execution_count": 229,
     "metadata": {},
     "output_type": "execute_result"
    }
   ],
   "source": [
    "file.Cpu.apply(lambda x : count_val(x)).value_counts()"
   ]
  },
  {
   "cell_type": "markdown",
   "id": "ab955c78",
   "metadata": {},
   "source": [
    "# Modelling"
   ]
  },
  {
   "cell_type": "code",
   "execution_count": 230,
   "id": "94de9335",
   "metadata": {},
   "outputs": [],
   "source": [
    "from sklearn.preprocessing import LabelEncoder\n",
    "from sklearn.model_selection import train_test_split\n",
    "from xgboost import XGBRegressor\n",
    "from lightgbm import LGBMRegressor\n",
    "from sklearn.preprocessing import StandardScaler\n",
    "from catboost import CatBoostRegressor\n",
    "from sklearn.model_selection import GridSearchCV\n",
    "from sklearn.model_selection import KFold, cross_val_score"
   ]
  },
  {
   "cell_type": "code",
   "execution_count": 231,
   "id": "f39db5b5",
   "metadata": {},
   "outputs": [],
   "source": [
    "df = file.copy()"
   ]
  },
  {
   "cell_type": "code",
   "execution_count": 232,
   "id": "4ff374df",
   "metadata": {},
   "outputs": [],
   "source": [
    "cat = [\"Company\", \"Product\", \"TypeName\", \"Cpu\", \"Gpu\", \"OpSys\", \"Memory_Type_1\", \"Memory_Type_2\", \"Screen_Type\", \"Resolution\"]"
   ]
  },
  {
   "cell_type": "code",
   "execution_count": 233,
   "id": "a99eb0a2",
   "metadata": {},
   "outputs": [],
   "source": [
    "for i in cat:\n",
    "    le = LabelEncoder()\n",
    "    df[i] = le.fit_transform(df[i])"
   ]
  },
  {
   "cell_type": "code",
   "execution_count": 234,
   "id": "580fb58f",
   "metadata": {},
   "outputs": [
    {
     "data": {
      "text/plain": [
       "<AxesSubplot:>"
      ]
     },
     "execution_count": 234,
     "metadata": {},
     "output_type": "execute_result"
    },
    {
     "data": {
      "image/png": "[encoded data removed]",
      "text/plain": [
       "<Figure size 1080x504 with 2 Axes>"
      ]
     },
     "metadata": {
      "needs_background": "light"
     },
     "output_type": "display_data"
    }
   ],
   "source": [
    "plt.figure(figsize = (15, 7))\n",
    "sns.heatmap(df.corr(), annot = True)"
   ]
  },
  {
   "cell_type": "code",
   "execution_count": 235,
   "id": "35afe2d7",
   "metadata": {},
   "outputs": [],
   "source": [
    "X = df.copy()\n",
    "X.drop(columns = \"Price_euros\", inplace=True)\n",
    "y = df[\"Price_euros\"]"
   ]
  },
  {
   "cell_type": "code",
   "execution_count": 236,
   "id": "edb4ad03",
   "metadata": {},
   "outputs": [],
   "source": [
    "scaler = StandardScaler()\n",
    "\n",
    "scaler.fit(X, y)\n",
    "X_scaled = scaler.transform(X)\n",
    "\n",
    "scaler.fit(y.values.reshape(-1, 1))\n",
    "y_scaled = scaler.transform(y.values.reshape(-1, 1))"
   ]
  },
  {
   "cell_type": "code",
   "execution_count": 237,
   "id": "5a4d46ea",
   "metadata": {},
   "outputs": [],
   "source": [
    "X_train, X_test, y_train, y_test = train_test_split(X_scaled, y_scaled[:,0], test_size=0.2, random_state=42)"
   ]
  },
  {
   "cell_type": "code",
   "execution_count": 238,
   "id": "6b87a3a9",
   "metadata": {},
   "outputs": [],
   "source": [
    "model = XGBRegressor(eta = 0.2)"
   ]
  },
  {
   "cell_type": "code",
   "execution_count": 239,
   "id": "ccf40dc1",
   "metadata": {},
   "outputs": [
    {
     "data": {
      "text/plain": [
       "XGBRegressor(base_score=None, booster=None, callbacks=None,\n",
       "             colsample_bylevel=None, colsample_bynode=None,\n",
       "             colsample_bytree=None, early_stopping_rounds=None,\n",
       "             enable_categorical=False, eta=0.2, eval_metric=None,\n",
       "             feature_types=None, gamma=None, gpu_id=None, grow_policy=None,\n",
       "             importance_type=None, interaction_constraints=None,\n",
       "             learning_rate=None, max_bin=None, max_cat_threshold=None,\n",
       "             max_cat_to_onehot=None, max_delta_step=None, max_depth=None,\n",
       "             max_leaves=None, min_child_weight=None, missing=nan,\n",
       "             monotone_constraints=None, n_estimators=100, n_jobs=None,\n",
       "             num_parallel_tree=None, predictor=None, ...)"
      ]
     },
     "execution_count": 239,
     "metadata": {},
     "output_type": "execute_result"
    }
   ],
   "source": [
    "model.fit(X_train, y_train)"
   ]
  },
  {
   "cell_type": "code",
   "execution_count": 240,
   "id": "5726d566",
   "metadata": {},
   "outputs": [
    {
     "data": {
      "text/plain": [
       "0.9401935242237892"
      ]
     },
     "execution_count": 240,
     "metadata": {},
     "output_type": "execute_result"
    }
   ],
   "source": [
    "model.score(X_test, y_test)"
   ]
  },
  {
   "cell_type": "code",
   "execution_count": 241,
   "id": "9d952054",
   "metadata": {},
   "outputs": [],
   "source": [
    "y_pred = model.predict(X_test)"
   ]
  },
  {
   "cell_type": "code",
   "execution_count": 245,
   "id": "a482d6d8",
   "metadata": {},
   "outputs": [
    {
     "data": {
      "text/plain": [
       "0.1822455518500196"
      ]
     },
     "execution_count": 245,
     "metadata": {},
     "output_type": "execute_result"
    }
   ],
   "source": [
    "from sklearn.metrics import mean_absolute_error\n",
    "mae = mean_absolute_error(y_pred, y_test)\n",
    "mae"
   ]
  },
  {
   "cell_type": "code",
   "execution_count": 246,
   "id": "4b3d13c8",
   "metadata": {},
   "outputs": [],
   "source": [
    "y_pred_act = pd.Series(np.exp(scaler.inverse_transform(y_pred.reshape(-1,1)))[:,0].tolist())\n",
    "y_test_act = pd.Series(np.exp(scaler.inverse_transform(y_test.reshape(-1,1))[:,0]).tolist())"
   ]
  },
  {
   "cell_type": "code",
   "execution_count": 247,
   "id": "63c5bf20",
   "metadata": {},
   "outputs": [
    {
     "data": {
      "text/html": [
       "<div>\n",
       "<style scoped>\n",
       "    .dataframe tbody tr th:only-of-type {\n",
       "        vertical-align: middle;\n",
       "    }\n",
       "\n",
       "    .dataframe tbody tr th {\n",
       "        vertical-align: top;\n",
       "    }\n",
       "\n",
       "    .dataframe thead th {\n",
       "        text-align: right;\n",
       "    }\n",
       "</style>\n",
       "<table border=\"1\" class=\"dataframe\">\n",
       "  <thead>\n",
       "    <tr style=\"text-align: right;\">\n",
       "      <th></th>\n",
       "      <th>Y_test_val</th>\n",
       "      <th>Y_pred_val</th>\n",
       "    </tr>\n",
       "  </thead>\n",
       "  <tbody>\n",
       "    <tr>\n",
       "      <th>0</th>\n",
       "      <td>1219.00</td>\n",
       "      <td>1237.565674</td>\n",
       "    </tr>\n",
       "    <tr>\n",
       "      <th>1</th>\n",
       "      <td>1607.96</td>\n",
       "      <td>1526.660889</td>\n",
       "    </tr>\n",
       "    <tr>\n",
       "      <th>2</th>\n",
       "      <td>539.00</td>\n",
       "      <td>625.359863</td>\n",
       "    </tr>\n",
       "    <tr>\n",
       "      <th>3</th>\n",
       "      <td>1228.99</td>\n",
       "      <td>1348.054932</td>\n",
       "    </tr>\n",
       "    <tr>\n",
       "      <th>4</th>\n",
       "      <td>459.00</td>\n",
       "      <td>453.980988</td>\n",
       "    </tr>\n",
       "    <tr>\n",
       "      <th>5</th>\n",
       "      <td>499.00</td>\n",
       "      <td>577.844543</td>\n",
       "    </tr>\n",
       "    <tr>\n",
       "      <th>6</th>\n",
       "      <td>1262.00</td>\n",
       "      <td>1080.358643</td>\n",
       "    </tr>\n",
       "    <tr>\n",
       "      <th>7</th>\n",
       "      <td>1900.00</td>\n",
       "      <td>1986.164673</td>\n",
       "    </tr>\n",
       "    <tr>\n",
       "      <th>8</th>\n",
       "      <td>1699.00</td>\n",
       "      <td>1425.693970</td>\n",
       "    </tr>\n",
       "    <tr>\n",
       "      <th>9</th>\n",
       "      <td>519.00</td>\n",
       "      <td>598.211121</td>\n",
       "    </tr>\n",
       "    <tr>\n",
       "      <th>10</th>\n",
       "      <td>2094.48</td>\n",
       "      <td>2060.637451</td>\n",
       "    </tr>\n",
       "    <tr>\n",
       "      <th>11</th>\n",
       "      <td>3949.40</td>\n",
       "      <td>2684.463135</td>\n",
       "    </tr>\n",
       "    <tr>\n",
       "      <th>12</th>\n",
       "      <td>719.00</td>\n",
       "      <td>849.295105</td>\n",
       "    </tr>\n",
       "    <tr>\n",
       "      <th>13</th>\n",
       "      <td>2090.00</td>\n",
       "      <td>2094.478516</td>\n",
       "    </tr>\n",
       "    <tr>\n",
       "      <th>14</th>\n",
       "      <td>3149.00</td>\n",
       "      <td>3012.937012</td>\n",
       "    </tr>\n",
       "    <tr>\n",
       "      <th>15</th>\n",
       "      <td>999.00</td>\n",
       "      <td>1157.740967</td>\n",
       "    </tr>\n",
       "    <tr>\n",
       "      <th>16</th>\n",
       "      <td>1983.00</td>\n",
       "      <td>1852.140869</td>\n",
       "    </tr>\n",
       "    <tr>\n",
       "      <th>17</th>\n",
       "      <td>559.00</td>\n",
       "      <td>553.114563</td>\n",
       "    </tr>\n",
       "    <tr>\n",
       "      <th>18</th>\n",
       "      <td>1294.00</td>\n",
       "      <td>1445.905640</td>\n",
       "    </tr>\n",
       "    <tr>\n",
       "      <th>19</th>\n",
       "      <td>499.00</td>\n",
       "      <td>499.172699</td>\n",
       "    </tr>\n",
       "    <tr>\n",
       "      <th>20</th>\n",
       "      <td>1142.40</td>\n",
       "      <td>961.636597</td>\n",
       "    </tr>\n",
       "    <tr>\n",
       "      <th>21</th>\n",
       "      <td>549.00</td>\n",
       "      <td>588.048889</td>\n",
       "    </tr>\n",
       "    <tr>\n",
       "      <th>22</th>\n",
       "      <td>705.15</td>\n",
       "      <td>673.904358</td>\n",
       "    </tr>\n",
       "    <tr>\n",
       "      <th>23</th>\n",
       "      <td>349.00</td>\n",
       "      <td>322.315643</td>\n",
       "    </tr>\n",
       "    <tr>\n",
       "      <th>24</th>\n",
       "      <td>586.60</td>\n",
       "      <td>582.463867</td>\n",
       "    </tr>\n",
       "    <tr>\n",
       "      <th>25</th>\n",
       "      <td>799.00</td>\n",
       "      <td>945.117554</td>\n",
       "    </tr>\n",
       "    <tr>\n",
       "      <th>26</th>\n",
       "      <td>174.00</td>\n",
       "      <td>243.352646</td>\n",
       "    </tr>\n",
       "    <tr>\n",
       "      <th>27</th>\n",
       "      <td>1149.00</td>\n",
       "      <td>980.506409</td>\n",
       "    </tr>\n",
       "    <tr>\n",
       "      <th>28</th>\n",
       "      <td>1026.00</td>\n",
       "      <td>1164.068726</td>\n",
       "    </tr>\n",
       "    <tr>\n",
       "      <th>29</th>\n",
       "      <td>2099.00</td>\n",
       "      <td>1865.558594</td>\n",
       "    </tr>\n",
       "    <tr>\n",
       "      <th>30</th>\n",
       "      <td>459.00</td>\n",
       "      <td>476.969635</td>\n",
       "    </tr>\n",
       "    <tr>\n",
       "      <th>31</th>\n",
       "      <td>1655.00</td>\n",
       "      <td>1667.070557</td>\n",
       "    </tr>\n",
       "    <tr>\n",
       "      <th>32</th>\n",
       "      <td>1764.00</td>\n",
       "      <td>2055.941162</td>\n",
       "    </tr>\n",
       "    <tr>\n",
       "      <th>33</th>\n",
       "      <td>739.00</td>\n",
       "      <td>801.538086</td>\n",
       "    </tr>\n",
       "    <tr>\n",
       "      <th>34</th>\n",
       "      <td>879.01</td>\n",
       "      <td>1126.541870</td>\n",
       "    </tr>\n",
       "    <tr>\n",
       "      <th>35</th>\n",
       "      <td>941.00</td>\n",
       "      <td>1147.217773</td>\n",
       "    </tr>\n",
       "    <tr>\n",
       "      <th>36</th>\n",
       "      <td>685.00</td>\n",
       "      <td>719.063721</td>\n",
       "    </tr>\n",
       "    <tr>\n",
       "      <th>37</th>\n",
       "      <td>1561.00</td>\n",
       "      <td>1775.257690</td>\n",
       "    </tr>\n",
       "    <tr>\n",
       "      <th>38</th>\n",
       "      <td>2589.00</td>\n",
       "      <td>2114.007324</td>\n",
       "    </tr>\n",
       "    <tr>\n",
       "      <th>39</th>\n",
       "      <td>521.47</td>\n",
       "      <td>676.405518</td>\n",
       "    </tr>\n",
       "    <tr>\n",
       "      <th>40</th>\n",
       "      <td>530.00</td>\n",
       "      <td>542.929749</td>\n",
       "    </tr>\n",
       "    <tr>\n",
       "      <th>41</th>\n",
       "      <td>1483.00</td>\n",
       "      <td>1702.854248</td>\n",
       "    </tr>\n",
       "    <tr>\n",
       "      <th>42</th>\n",
       "      <td>999.00</td>\n",
       "      <td>1198.880859</td>\n",
       "    </tr>\n",
       "    <tr>\n",
       "      <th>43</th>\n",
       "      <td>699.00</td>\n",
       "      <td>714.461670</td>\n",
       "    </tr>\n",
       "    <tr>\n",
       "      <th>44</th>\n",
       "      <td>249.00</td>\n",
       "      <td>257.044739</td>\n",
       "    </tr>\n",
       "    <tr>\n",
       "      <th>45</th>\n",
       "      <td>1029.00</td>\n",
       "      <td>1557.939697</td>\n",
       "    </tr>\n",
       "    <tr>\n",
       "      <th>46</th>\n",
       "      <td>449.00</td>\n",
       "      <td>473.485809</td>\n",
       "    </tr>\n",
       "    <tr>\n",
       "      <th>47</th>\n",
       "      <td>1379.00</td>\n",
       "      <td>1462.212402</td>\n",
       "    </tr>\n",
       "    <tr>\n",
       "      <th>48</th>\n",
       "      <td>742.00</td>\n",
       "      <td>776.554382</td>\n",
       "    </tr>\n",
       "    <tr>\n",
       "      <th>49</th>\n",
       "      <td>1599.00</td>\n",
       "      <td>1455.822266</td>\n",
       "    </tr>\n",
       "  </tbody>\n",
       "</table>\n",
       "</div>"
      ],
      "text/plain": [
       "    Y_test_val   Y_pred_val\n",
       "0      1219.00  1237.565674\n",
       "1      1607.96  1526.660889\n",
       "2       539.00   625.359863\n",
       "3      1228.99  1348.054932\n",
       "4       459.00   453.980988\n",
       "5       499.00   577.844543\n",
       "6      1262.00  1080.358643\n",
       "7      1900.00  1986.164673\n",
       "8      1699.00  1425.693970\n",
       "9       519.00   598.211121\n",
       "10     2094.48  2060.637451\n",
       "11     3949.40  2684.463135\n",
       "12      719.00   849.295105\n",
       "13     2090.00  2094.478516\n",
       "14     3149.00  3012.937012\n",
       "15      999.00  1157.740967\n",
       "16     1983.00  1852.140869\n",
       "17      559.00   553.114563\n",
       "18     1294.00  1445.905640\n",
       "19      499.00   499.172699\n",
       "20     1142.40   961.636597\n",
       "21      549.00   588.048889\n",
       "22      705.15   673.904358\n",
       "23      349.00   322.315643\n",
       "24      586.60   582.463867\n",
       "25      799.00   945.117554\n",
       "26      174.00   243.352646\n",
       "27     1149.00   980.506409\n",
       "28     1026.00  1164.068726\n",
       "29     2099.00  1865.558594\n",
       "30      459.00   476.969635\n",
       "31     1655.00  1667.070557\n",
       "32     1764.00  2055.941162\n",
       "33      739.00   801.538086\n",
       "34      879.01  1126.541870\n",
       "35      941.00  1147.217773\n",
       "36      685.00   719.063721\n",
       "37     1561.00  1775.257690\n",
       "38     2589.00  2114.007324\n",
       "39      521.47   676.405518\n",
       "40      530.00   542.929749\n",
       "41     1483.00  1702.854248\n",
       "42      999.00  1198.880859\n",
       "43      699.00   714.461670\n",
       "44      249.00   257.044739\n",
       "45     1029.00  1557.939697\n",
       "46      449.00   473.485809\n",
       "47     1379.00  1462.212402\n",
       "48      742.00   776.554382\n",
       "49     1599.00  1455.822266"
      ]
     },
     "execution_count": 247,
     "metadata": {},
     "output_type": "execute_result"
    }
   ],
   "source": [
    "pd.concat([y_test_act, y_pred_act], axis = 1 ).rename(columns= {0 :\"Y_test_val\", 1:\"Y_pred_val\"}).head(50)"
   ]
  },
  {
   "cell_type": "code",
   "execution_count": null,
   "id": "19b97478",
   "metadata": {},
   "outputs": [],
   "source": []
  }
 ],
 "metadata": {
  "kernelspec": {
   "display_name": "Python 3 (ipykernel)",
   "language": "python",
   "name": "python3"
  },
  "language_info": {
   "codemirror_mode": {
    "name": "ipython",
    "version": 3
   },
   "file_extension": ".py",
   "mimetype": "text/x-python",
   "name": "python",
   "nbconvert_exporter": "python",
   "pygments_lexer": "ipython3",
   "version": "3.9.7"
  }
 },
 "nbformat": 4,
 "nbformat_minor": 5
}
